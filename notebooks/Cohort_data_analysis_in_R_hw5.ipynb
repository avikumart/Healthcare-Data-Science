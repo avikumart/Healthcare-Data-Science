{
  "nbformat": 4,
  "nbformat_minor": 0,
  "metadata": {
    "colab": {
      "provenance": [],
      "authorship_tag": "ABX9TyPhvREsv5cz8AHJwbpylYsy",
      "include_colab_link": true
    },
    "kernelspec": {
      "name": "ir",
      "display_name": "R"
    },
    "language_info": {
      "name": "R"
    }
  },
  "cells": [
    {
      "cell_type": "markdown",
      "metadata": {
        "id": "view-in-github",
        "colab_type": "text"
      },
      "source": [
        "<a href=\"https://colab.research.google.com/github/avikumart/Healthcare-Data-Science/blob/main/notebooks/Cohort_data_analysis_in_R_hw5.ipynb\" target=\"_parent\"><img src=\"https://colab.research.google.com/assets/colab-badge.svg\" alt=\"Open In Colab\"/></a>"
      ]
    },
    {
      "cell_type": "code",
      "execution_count": 1,
      "metadata": {
        "colab": {
          "base_uri": "https://localhost:8080/"
        },
        "id": "D9kTki5ofGRD",
        "outputId": "fc97d525-8383-44c8-8b6f-ad70f4f144f8"
      },
      "outputs": [
        {
          "output_type": "stream",
          "name": "stderr",
          "text": [
            "── \u001b[1mAttaching core tidyverse packages\u001b[22m ──────────────────────── tidyverse 2.0.0 ──\n",
            "\u001b[32m✔\u001b[39m \u001b[34mdplyr    \u001b[39m 1.1.4     \u001b[32m✔\u001b[39m \u001b[34mreadr    \u001b[39m 2.1.5\n",
            "\u001b[32m✔\u001b[39m \u001b[34mforcats  \u001b[39m 1.0.1     \u001b[32m✔\u001b[39m \u001b[34mstringr  \u001b[39m 1.5.2\n",
            "\u001b[32m✔\u001b[39m \u001b[34mggplot2  \u001b[39m 4.0.0     \u001b[32m✔\u001b[39m \u001b[34mtibble   \u001b[39m 3.3.0\n",
            "\u001b[32m✔\u001b[39m \u001b[34mlubridate\u001b[39m 1.9.4     \u001b[32m✔\u001b[39m \u001b[34mtidyr    \u001b[39m 1.3.1\n",
            "\u001b[32m✔\u001b[39m \u001b[34mpurrr    \u001b[39m 1.1.0     \n",
            "── \u001b[1mConflicts\u001b[22m ────────────────────────────────────────── tidyverse_conflicts() ──\n",
            "\u001b[31m✖\u001b[39m \u001b[34mdplyr\u001b[39m::\u001b[32mfilter()\u001b[39m masks \u001b[34mstats\u001b[39m::filter()\n",
            "\u001b[31m✖\u001b[39m \u001b[34mdplyr\u001b[39m::\u001b[32mlag()\u001b[39m    masks \u001b[34mstats\u001b[39m::lag()\n",
            "\u001b[36mℹ\u001b[39m Use the conflicted package (\u001b[3m\u001b[34m<http://conflicted.r-lib.org/>\u001b[39m\u001b[23m) to force all conflicts to become errors\n"
          ]
        }
      ],
      "source": [
        "# import the tidyverse\n",
        "library(tidyverse)"
      ]
    },
    {
      "cell_type": "markdown",
      "source": [
        "- Load the dataset for the analysis"
      ],
      "metadata": {
        "id": "CkfHbnAfjXhL"
      }
    },
    {
      "cell_type": "code",
      "source": [
        "df <- read.csv(\"/content/full_cohort_data.csv\")"
      ],
      "metadata": {
        "id": "A5-2llisiNI_"
      },
      "execution_count": 2,
      "outputs": []
    },
    {
      "cell_type": "code",
      "source": [
        "head(df)"
      ],
      "metadata": {
        "colab": {
          "base_uri": "https://localhost:8080/",
          "height": 306
        },
        "id": "2P0MdzRpiSG0",
        "outputId": "5822d255-945a-4e5c-a14b-fb068b11a4a3"
      },
      "execution_count": 4,
      "outputs": [
        {
          "output_type": "display_data",
          "data": {
            "text/html": [
              "<table class=\"dataframe\">\n",
              "<caption>A data.frame: 6 × 46</caption>\n",
              "<thead>\n",
              "\t<tr><th></th><th scope=col>aline_flg</th><th scope=col>icu_los_day</th><th scope=col>hospital_los_day</th><th scope=col>age</th><th scope=col>gender_num</th><th scope=col>weight_first</th><th scope=col>bmi</th><th scope=col>sapsi_first</th><th scope=col>sofa_first</th><th scope=col>service_unit</th><th scope=col>⋯</th><th scope=col>platelet_first</th><th scope=col>sodium_first</th><th scope=col>potassium_first</th><th scope=col>tco2_first</th><th scope=col>chloride_first</th><th scope=col>bun_first</th><th scope=col>creatinine_first</th><th scope=col>po2_first</th><th scope=col>pco2_first</th><th scope=col>iv_day_1</th></tr>\n",
              "\t<tr><th></th><th scope=col>&lt;int&gt;</th><th scope=col>&lt;dbl&gt;</th><th scope=col>&lt;int&gt;</th><th scope=col>&lt;dbl&gt;</th><th scope=col>&lt;int&gt;</th><th scope=col>&lt;dbl&gt;</th><th scope=col>&lt;dbl&gt;</th><th scope=col>&lt;int&gt;</th><th scope=col>&lt;int&gt;</th><th scope=col>&lt;chr&gt;</th><th scope=col>⋯</th><th scope=col>&lt;int&gt;</th><th scope=col>&lt;int&gt;</th><th scope=col>&lt;dbl&gt;</th><th scope=col>&lt;dbl&gt;</th><th scope=col>&lt;int&gt;</th><th scope=col>&lt;int&gt;</th><th scope=col>&lt;dbl&gt;</th><th scope=col>&lt;int&gt;</th><th scope=col>&lt;int&gt;</th><th scope=col>&lt;dbl&gt;</th></tr>\n",
              "</thead>\n",
              "<tbody>\n",
              "\t<tr><th scope=row>1</th><td>1</td><td>7.63</td><td>13</td><td>72.36841</td><td>1</td><td>75.0</td><td>29.91279</td><td>15</td><td>9</td><td>SICU</td><td>⋯</td><td>354</td><td>138</td><td>4.6</td><td>15</td><td>109</td><td>41</td><td>1.6</td><td>196</td><td>39</td><td>2230.875</td></tr>\n",
              "\t<tr><th scope=row>2</th><td>0</td><td>1.14</td><td> 1</td><td>64.92076</td><td>0</td><td>55.0</td><td>20.12131</td><td>NA</td><td>5</td><td>MICU</td><td>⋯</td><td> NA</td><td> NA</td><td> NA</td><td>NA</td><td> NA</td><td>NA</td><td> NA</td><td> NA</td><td>NA</td><td> 600.000</td></tr>\n",
              "\t<tr><th scope=row>3</th><td>0</td><td>2.86</td><td> 5</td><td>36.50000</td><td>0</td><td>70.0</td><td>27.11827</td><td>16</td><td>5</td><td>MICU</td><td>⋯</td><td>295</td><td>144</td><td>3.9</td><td>17</td><td>101</td><td>16</td><td>0.8</td><td>298</td><td>30</td><td>2086.800</td></tr>\n",
              "\t<tr><th scope=row>4</th><td>1</td><td>0.58</td><td> 3</td><td>44.49191</td><td>0</td><td>  NA</td><td>      NA</td><td>21</td><td>7</td><td>SICU</td><td>⋯</td><td>262</td><td>139</td><td>4.2</td><td>31</td><td>100</td><td>16</td><td>0.5</td><td>146</td><td>23</td><td>      NA</td></tr>\n",
              "\t<tr><th scope=row>5</th><td>1</td><td>1.75</td><td> 5</td><td>23.74217</td><td>1</td><td>95.2</td><td>28.46456</td><td>18</td><td>7</td><td>SICU</td><td>⋯</td><td> 22</td><td>146</td><td>3.4</td><td>19</td><td>110</td><td>10</td><td>1.0</td><td>134</td><td>30</td><td>2358.244</td></tr>\n",
              "\t<tr><th scope=row>6</th><td>0</td><td>1.38</td><td> 9</td><td>36.54657</td><td>1</td><td>72.0</td><td>23.98240</td><td>14</td><td>5</td><td>SICU</td><td>⋯</td><td>182</td><td>145</td><td>3.6</td><td>26</td><td>110</td><td>10</td><td>0.7</td><td> NA</td><td>NA</td><td>1877.560</td></tr>\n",
              "</tbody>\n",
              "</table>\n"
            ],
            "text/markdown": "\nA data.frame: 6 × 46\n\n| <!--/--> | aline_flg &lt;int&gt; | icu_los_day &lt;dbl&gt; | hospital_los_day &lt;int&gt; | age &lt;dbl&gt; | gender_num &lt;int&gt; | weight_first &lt;dbl&gt; | bmi &lt;dbl&gt; | sapsi_first &lt;int&gt; | sofa_first &lt;int&gt; | service_unit &lt;chr&gt; | ⋯ ⋯ | platelet_first &lt;int&gt; | sodium_first &lt;int&gt; | potassium_first &lt;dbl&gt; | tco2_first &lt;dbl&gt; | chloride_first &lt;int&gt; | bun_first &lt;int&gt; | creatinine_first &lt;dbl&gt; | po2_first &lt;int&gt; | pco2_first &lt;int&gt; | iv_day_1 &lt;dbl&gt; |\n|---|---|---|---|---|---|---|---|---|---|---|---|---|---|---|---|---|---|---|---|---|---|\n| 1 | 1 | 7.63 | 13 | 72.36841 | 1 | 75.0 | 29.91279 | 15 | 9 | SICU | ⋯ | 354 | 138 | 4.6 | 15 | 109 | 41 | 1.6 | 196 | 39 | 2230.875 |\n| 2 | 0 | 1.14 |  1 | 64.92076 | 0 | 55.0 | 20.12131 | NA | 5 | MICU | ⋯ |  NA |  NA |  NA | NA |  NA | NA |  NA |  NA | NA |  600.000 |\n| 3 | 0 | 2.86 |  5 | 36.50000 | 0 | 70.0 | 27.11827 | 16 | 5 | MICU | ⋯ | 295 | 144 | 3.9 | 17 | 101 | 16 | 0.8 | 298 | 30 | 2086.800 |\n| 4 | 1 | 0.58 |  3 | 44.49191 | 0 |   NA |       NA | 21 | 7 | SICU | ⋯ | 262 | 139 | 4.2 | 31 | 100 | 16 | 0.5 | 146 | 23 |       NA |\n| 5 | 1 | 1.75 |  5 | 23.74217 | 1 | 95.2 | 28.46456 | 18 | 7 | SICU | ⋯ |  22 | 146 | 3.4 | 19 | 110 | 10 | 1.0 | 134 | 30 | 2358.244 |\n| 6 | 0 | 1.38 |  9 | 36.54657 | 1 | 72.0 | 23.98240 | 14 | 5 | SICU | ⋯ | 182 | 145 | 3.6 | 26 | 110 | 10 | 0.7 |  NA | NA | 1877.560 |\n\n",
            "text/latex": "A data.frame: 6 × 46\n\\begin{tabular}{r|lllllllllllllllllllll}\n  & aline\\_flg & icu\\_los\\_day & hospital\\_los\\_day & age & gender\\_num & weight\\_first & bmi & sapsi\\_first & sofa\\_first & service\\_unit & ⋯ & platelet\\_first & sodium\\_first & potassium\\_first & tco2\\_first & chloride\\_first & bun\\_first & creatinine\\_first & po2\\_first & pco2\\_first & iv\\_day\\_1\\\\\n  & <int> & <dbl> & <int> & <dbl> & <int> & <dbl> & <dbl> & <int> & <int> & <chr> & ⋯ & <int> & <int> & <dbl> & <dbl> & <int> & <int> & <dbl> & <int> & <int> & <dbl>\\\\\n\\hline\n\t1 & 1 & 7.63 & 13 & 72.36841 & 1 & 75.0 & 29.91279 & 15 & 9 & SICU & ⋯ & 354 & 138 & 4.6 & 15 & 109 & 41 & 1.6 & 196 & 39 & 2230.875\\\\\n\t2 & 0 & 1.14 &  1 & 64.92076 & 0 & 55.0 & 20.12131 & NA & 5 & MICU & ⋯ &  NA &  NA &  NA & NA &  NA & NA &  NA &  NA & NA &  600.000\\\\\n\t3 & 0 & 2.86 &  5 & 36.50000 & 0 & 70.0 & 27.11827 & 16 & 5 & MICU & ⋯ & 295 & 144 & 3.9 & 17 & 101 & 16 & 0.8 & 298 & 30 & 2086.800\\\\\n\t4 & 1 & 0.58 &  3 & 44.49191 & 0 &   NA &       NA & 21 & 7 & SICU & ⋯ & 262 & 139 & 4.2 & 31 & 100 & 16 & 0.5 & 146 & 23 &       NA\\\\\n\t5 & 1 & 1.75 &  5 & 23.74217 & 1 & 95.2 & 28.46456 & 18 & 7 & SICU & ⋯ &  22 & 146 & 3.4 & 19 & 110 & 10 & 1.0 & 134 & 30 & 2358.244\\\\\n\t6 & 0 & 1.38 &  9 & 36.54657 & 1 & 72.0 & 23.98240 & 14 & 5 & SICU & ⋯ & 182 & 145 & 3.6 & 26 & 110 & 10 & 0.7 &  NA & NA & 1877.560\\\\\n\\end{tabular}\n",
            "text/plain": [
              "  aline_flg icu_los_day hospital_los_day age      gender_num weight_first\n",
              "1 1         7.63        13               72.36841 1          75.0        \n",
              "2 0         1.14         1               64.92076 0          55.0        \n",
              "3 0         2.86         5               36.50000 0          70.0        \n",
              "4 1         0.58         3               44.49191 0            NA        \n",
              "5 1         1.75         5               23.74217 1          95.2        \n",
              "6 0         1.38         9               36.54657 1          72.0        \n",
              "  bmi      sapsi_first sofa_first service_unit ⋯ platelet_first sodium_first\n",
              "1 29.91279 15          9          SICU         ⋯ 354            138         \n",
              "2 20.12131 NA          5          MICU         ⋯  NA             NA         \n",
              "3 27.11827 16          5          MICU         ⋯ 295            144         \n",
              "4       NA 21          7          SICU         ⋯ 262            139         \n",
              "5 28.46456 18          7          SICU         ⋯  22            146         \n",
              "6 23.98240 14          5          SICU         ⋯ 182            145         \n",
              "  potassium_first tco2_first chloride_first bun_first creatinine_first\n",
              "1 4.6             15         109            41        1.6             \n",
              "2  NA             NA          NA            NA         NA             \n",
              "3 3.9             17         101            16        0.8             \n",
              "4 4.2             31         100            16        0.5             \n",
              "5 3.4             19         110            10        1.0             \n",
              "6 3.6             26         110            10        0.7             \n",
              "  po2_first pco2_first iv_day_1\n",
              "1 196       39         2230.875\n",
              "2  NA       NA          600.000\n",
              "3 298       30         2086.800\n",
              "4 146       23               NA\n",
              "5 134       30         2358.244\n",
              "6  NA       NA         1877.560"
            ]
          },
          "metadata": {}
        }
      ]
    },
    {
      "cell_type": "code",
      "source": [
        "# check the target columns\n",
        "df %>% select(aline_flg, day_28_flg)"
      ],
      "metadata": {
        "colab": {
          "base_uri": "https://localhost:8080/",
          "height": 1000
        },
        "collapsed": true,
        "id": "5gsDIS5AiSk2",
        "outputId": "cfc11ee2-8858-4b78-8aad-db5a99761955"
      },
      "execution_count": 5,
      "outputs": [
        {
          "output_type": "display_data",
          "data": {
            "text/html": [
              "<table class=\"dataframe\">\n",
              "<caption>A data.frame: 1776 × 2</caption>\n",
              "<thead>\n",
              "\t<tr><th scope=col>aline_flg</th><th scope=col>day_28_flg</th></tr>\n",
              "\t<tr><th scope=col>&lt;int&gt;</th><th scope=col>&lt;int&gt;</th></tr>\n",
              "</thead>\n",
              "<tbody>\n",
              "\t<tr><td>1</td><td>1</td></tr>\n",
              "\t<tr><td>0</td><td>0</td></tr>\n",
              "\t<tr><td>0</td><td>0</td></tr>\n",
              "\t<tr><td>1</td><td>1</td></tr>\n",
              "\t<tr><td>1</td><td>0</td></tr>\n",
              "\t<tr><td>0</td><td>0</td></tr>\n",
              "\t<tr><td>1</td><td>0</td></tr>\n",
              "\t<tr><td>1</td><td>0</td></tr>\n",
              "\t<tr><td>1</td><td>0</td></tr>\n",
              "\t<tr><td>1</td><td>1</td></tr>\n",
              "\t<tr><td>1</td><td>0</td></tr>\n",
              "\t<tr><td>0</td><td>0</td></tr>\n",
              "\t<tr><td>1</td><td>0</td></tr>\n",
              "\t<tr><td>1</td><td>0</td></tr>\n",
              "\t<tr><td>1</td><td>0</td></tr>\n",
              "\t<tr><td>1</td><td>0</td></tr>\n",
              "\t<tr><td>0</td><td>0</td></tr>\n",
              "\t<tr><td>0</td><td>1</td></tr>\n",
              "\t<tr><td>0</td><td>0</td></tr>\n",
              "\t<tr><td>1</td><td>0</td></tr>\n",
              "\t<tr><td>1</td><td>0</td></tr>\n",
              "\t<tr><td>1</td><td>1</td></tr>\n",
              "\t<tr><td>1</td><td>0</td></tr>\n",
              "\t<tr><td>0</td><td>1</td></tr>\n",
              "\t<tr><td>1</td><td>0</td></tr>\n",
              "\t<tr><td>0</td><td>0</td></tr>\n",
              "\t<tr><td>0</td><td>0</td></tr>\n",
              "\t<tr><td>0</td><td>0</td></tr>\n",
              "\t<tr><td>0</td><td>0</td></tr>\n",
              "\t<tr><td>0</td><td>0</td></tr>\n",
              "\t<tr><td>⋮</td><td>⋮</td></tr>\n",
              "\t<tr><td>1</td><td>0</td></tr>\n",
              "\t<tr><td>0</td><td>0</td></tr>\n",
              "\t<tr><td>1</td><td>1</td></tr>\n",
              "\t<tr><td>1</td><td>0</td></tr>\n",
              "\t<tr><td>0</td><td>0</td></tr>\n",
              "\t<tr><td>0</td><td>0</td></tr>\n",
              "\t<tr><td>0</td><td>0</td></tr>\n",
              "\t<tr><td>1</td><td>0</td></tr>\n",
              "\t<tr><td>1</td><td>0</td></tr>\n",
              "\t<tr><td>0</td><td>0</td></tr>\n",
              "\t<tr><td>1</td><td>0</td></tr>\n",
              "\t<tr><td>1</td><td>0</td></tr>\n",
              "\t<tr><td>0</td><td>0</td></tr>\n",
              "\t<tr><td>1</td><td>0</td></tr>\n",
              "\t<tr><td>0</td><td>0</td></tr>\n",
              "\t<tr><td>0</td><td>0</td></tr>\n",
              "\t<tr><td>1</td><td>0</td></tr>\n",
              "\t<tr><td>0</td><td>0</td></tr>\n",
              "\t<tr><td>0</td><td>0</td></tr>\n",
              "\t<tr><td>0</td><td>0</td></tr>\n",
              "\t<tr><td>0</td><td>1</td></tr>\n",
              "\t<tr><td>0</td><td>0</td></tr>\n",
              "\t<tr><td>1</td><td>0</td></tr>\n",
              "\t<tr><td>0</td><td>1</td></tr>\n",
              "\t<tr><td>0</td><td>0</td></tr>\n",
              "\t<tr><td>1</td><td>1</td></tr>\n",
              "\t<tr><td>1</td><td>1</td></tr>\n",
              "\t<tr><td>0</td><td>0</td></tr>\n",
              "\t<tr><td>1</td><td>0</td></tr>\n",
              "\t<tr><td>1</td><td>0</td></tr>\n",
              "</tbody>\n",
              "</table>\n"
            ],
            "text/markdown": "\nA data.frame: 1776 × 2\n\n| aline_flg &lt;int&gt; | day_28_flg &lt;int&gt; |\n|---|---|\n| 1 | 1 |\n| 0 | 0 |\n| 0 | 0 |\n| 1 | 1 |\n| 1 | 0 |\n| 0 | 0 |\n| 1 | 0 |\n| 1 | 0 |\n| 1 | 0 |\n| 1 | 1 |\n| 1 | 0 |\n| 0 | 0 |\n| 1 | 0 |\n| 1 | 0 |\n| 1 | 0 |\n| 1 | 0 |\n| 0 | 0 |\n| 0 | 1 |\n| 0 | 0 |\n| 1 | 0 |\n| 1 | 0 |\n| 1 | 1 |\n| 1 | 0 |\n| 0 | 1 |\n| 1 | 0 |\n| 0 | 0 |\n| 0 | 0 |\n| 0 | 0 |\n| 0 | 0 |\n| 0 | 0 |\n| ⋮ | ⋮ |\n| 1 | 0 |\n| 0 | 0 |\n| 1 | 1 |\n| 1 | 0 |\n| 0 | 0 |\n| 0 | 0 |\n| 0 | 0 |\n| 1 | 0 |\n| 1 | 0 |\n| 0 | 0 |\n| 1 | 0 |\n| 1 | 0 |\n| 0 | 0 |\n| 1 | 0 |\n| 0 | 0 |\n| 0 | 0 |\n| 1 | 0 |\n| 0 | 0 |\n| 0 | 0 |\n| 0 | 0 |\n| 0 | 1 |\n| 0 | 0 |\n| 1 | 0 |\n| 0 | 1 |\n| 0 | 0 |\n| 1 | 1 |\n| 1 | 1 |\n| 0 | 0 |\n| 1 | 0 |\n| 1 | 0 |\n\n",
            "text/latex": "A data.frame: 1776 × 2\n\\begin{tabular}{ll}\n aline\\_flg & day\\_28\\_flg\\\\\n <int> & <int>\\\\\n\\hline\n\t 1 & 1\\\\\n\t 0 & 0\\\\\n\t 0 & 0\\\\\n\t 1 & 1\\\\\n\t 1 & 0\\\\\n\t 0 & 0\\\\\n\t 1 & 0\\\\\n\t 1 & 0\\\\\n\t 1 & 0\\\\\n\t 1 & 1\\\\\n\t 1 & 0\\\\\n\t 0 & 0\\\\\n\t 1 & 0\\\\\n\t 1 & 0\\\\\n\t 1 & 0\\\\\n\t 1 & 0\\\\\n\t 0 & 0\\\\\n\t 0 & 1\\\\\n\t 0 & 0\\\\\n\t 1 & 0\\\\\n\t 1 & 0\\\\\n\t 1 & 1\\\\\n\t 1 & 0\\\\\n\t 0 & 1\\\\\n\t 1 & 0\\\\\n\t 0 & 0\\\\\n\t 0 & 0\\\\\n\t 0 & 0\\\\\n\t 0 & 0\\\\\n\t 0 & 0\\\\\n\t ⋮ & ⋮\\\\\n\t 1 & 0\\\\\n\t 0 & 0\\\\\n\t 1 & 1\\\\\n\t 1 & 0\\\\\n\t 0 & 0\\\\\n\t 0 & 0\\\\\n\t 0 & 0\\\\\n\t 1 & 0\\\\\n\t 1 & 0\\\\\n\t 0 & 0\\\\\n\t 1 & 0\\\\\n\t 1 & 0\\\\\n\t 0 & 0\\\\\n\t 1 & 0\\\\\n\t 0 & 0\\\\\n\t 0 & 0\\\\\n\t 1 & 0\\\\\n\t 0 & 0\\\\\n\t 0 & 0\\\\\n\t 0 & 0\\\\\n\t 0 & 1\\\\\n\t 0 & 0\\\\\n\t 1 & 0\\\\\n\t 0 & 1\\\\\n\t 0 & 0\\\\\n\t 1 & 1\\\\\n\t 1 & 1\\\\\n\t 0 & 0\\\\\n\t 1 & 0\\\\\n\t 1 & 0\\\\\n\\end{tabular}\n",
            "text/plain": [
              "     aline_flg day_28_flg\n",
              "1    1         1         \n",
              "2    0         0         \n",
              "3    0         0         \n",
              "4    1         1         \n",
              "5    1         0         \n",
              "6    0         0         \n",
              "7    1         0         \n",
              "8    1         0         \n",
              "9    1         0         \n",
              "10   1         1         \n",
              "11   1         0         \n",
              "12   0         0         \n",
              "13   1         0         \n",
              "14   1         0         \n",
              "15   1         0         \n",
              "16   1         0         \n",
              "17   0         0         \n",
              "18   0         1         \n",
              "19   0         0         \n",
              "20   1         0         \n",
              "21   1         0         \n",
              "22   1         1         \n",
              "23   1         0         \n",
              "24   0         1         \n",
              "25   1         0         \n",
              "26   0         0         \n",
              "27   0         0         \n",
              "28   0         0         \n",
              "29   0         0         \n",
              "30   0         0         \n",
              "⋮    ⋮         ⋮         \n",
              "1747 1         0         \n",
              "1748 0         0         \n",
              "1749 1         1         \n",
              "1750 1         0         \n",
              "1751 0         0         \n",
              "1752 0         0         \n",
              "1753 0         0         \n",
              "1754 1         0         \n",
              "1755 1         0         \n",
              "1756 0         0         \n",
              "1757 1         0         \n",
              "1758 1         0         \n",
              "1759 0         0         \n",
              "1760 1         0         \n",
              "1761 0         0         \n",
              "1762 0         0         \n",
              "1763 1         0         \n",
              "1764 0         0         \n",
              "1765 0         0         \n",
              "1766 0         0         \n",
              "1767 0         1         \n",
              "1768 0         0         \n",
              "1769 1         0         \n",
              "1770 0         1         \n",
              "1771 0         0         \n",
              "1772 1         1         \n",
              "1773 1         1         \n",
              "1774 0         0         \n",
              "1775 1         0         \n",
              "1776 1         0         "
            ]
          },
          "metadata": {}
        }
      ]
    },
    {
      "cell_type": "markdown",
      "source": [
        "- summary table of the full cohort data"
      ],
      "metadata": {
        "id": "uT9leYYHjSAy"
      }
    },
    {
      "cell_type": "code",
      "source": [
        "install.packages(\"gtsummary\")\n",
        "library(gtsummary)"
      ],
      "metadata": {
        "colab": {
          "base_uri": "https://localhost:8080/"
        },
        "id": "97f3pZ93i-Hd",
        "outputId": "9a61e856-6680-41df-af74-056210ab015c"
      },
      "execution_count": 6,
      "outputs": [
        {
          "output_type": "stream",
          "name": "stderr",
          "text": [
            "Installing package into ‘/usr/local/lib/R/site-library’\n",
            "(as ‘lib’ is unspecified)\n",
            "\n"
          ]
        }
      ]
    },
    {
      "cell_type": "code",
      "source": [
        "summary(df)"
      ],
      "metadata": {
        "colab": {
          "base_uri": "https://localhost:8080/",
          "height": 1000
        },
        "id": "00UrermZlqov",
        "outputId": "4e8b32c8-7d6c-4df4-af24-9dbd55f61884"
      },
      "execution_count": 7,
      "outputs": [
        {
          "output_type": "display_data",
          "data": {
            "text/plain": [
              "   aline_flg       icu_los_day     hospital_los_day       age       \n",
              " Min.   :0.0000   Min.   : 0.500   Min.   :  1.000   Min.   :15.18  \n",
              " 1st Qu.:0.0000   1st Qu.: 1.370   1st Qu.:  3.000   1st Qu.:38.25  \n",
              " Median :1.0000   Median : 2.185   Median :  6.000   Median :53.68  \n",
              " Mean   :0.5541   Mean   : 3.346   Mean   :  8.111   Mean   :54.38  \n",
              " 3rd Qu.:1.0000   3rd Qu.: 4.003   3rd Qu.: 10.000   3rd Qu.:72.76  \n",
              " Max.   :1.0000   Max.   :28.240   Max.   :112.000   Max.   :99.11  \n",
              "                                                                    \n",
              "   gender_num      weight_first         bmi         sapsi_first   \n",
              " Min.   :0.0000   Min.   : 30.00   Min.   :12.78   Min.   : 3.00  \n",
              " 1st Qu.:0.0000   1st Qu.: 65.40   1st Qu.:22.62   1st Qu.:11.00  \n",
              " Median :1.0000   Median : 77.00   Median :26.32   Median :14.00  \n",
              " Mean   :0.5775   Mean   : 80.08   Mean   :27.83   Mean   :14.14  \n",
              " 3rd Qu.:1.0000   3rd Qu.: 90.00   3rd Qu.:30.80   3rd Qu.:17.00  \n",
              " Max.   :1.0000   Max.   :257.60   Max.   :98.80   Max.   :32.00  \n",
              " NA's   :1        NA's   :110      NA's   :466     NA's   :85     \n",
              "   sofa_first     service_unit        service_num     day_icu_intime    \n",
              " Min.   : 0.000   Length:1776        Min.   :0.0000   Length:1776       \n",
              " 1st Qu.: 4.000   Class :character   1st Qu.:0.0000   Class :character  \n",
              " Median : 6.000   Mode  :character   Median :1.0000   Mode  :character  \n",
              " Mean   : 5.821                      Mean   :0.5529                     \n",
              " 3rd Qu.: 7.000                      3rd Qu.:1.0000                     \n",
              " Max.   :17.000                      Max.   :1.0000                     \n",
              " NA's   :6                                                              \n",
              " day_icu_intime_num hour_icu_intime  hosp_exp_flg     icu_exp_flg     \n",
              " Min.   :1.000      Min.   : 0.00   Min.   :0.0000   Min.   :0.00000  \n",
              " 1st Qu.:2.000      1st Qu.: 3.00   1st Qu.:0.0000   1st Qu.:0.00000  \n",
              " Median :4.000      Median : 9.00   Median :0.0000   Median :0.00000  \n",
              " Mean   :4.054      Mean   :10.59   Mean   :0.1374   Mean   :0.09572  \n",
              " 3rd Qu.:6.000      3rd Qu.:19.00   3rd Qu.:0.0000   3rd Qu.:0.00000  \n",
              " Max.   :7.000      Max.   :23.00   Max.   :1.0000   Max.   :1.00000  \n",
              "                                                                      \n",
              "   day_28_flg     mort_day_censored   censor_flg       sepsis_flg\n",
              " Min.   :0.0000   Min.   :   0.0    Min.   :0.0000   Min.   :0   \n",
              " 1st Qu.:0.0000   1st Qu.: 434.3    1st Qu.:0.0000   1st Qu.:0   \n",
              " Median :0.0000   Median : 731.0    Median :1.0000   Median :0   \n",
              " Mean   :0.1593   Mean   : 614.3    Mean   :0.7202   Mean   :0   \n",
              " 3rd Qu.:0.0000   3rd Qu.: 731.0    3rd Qu.:1.0000   3rd Qu.:0   \n",
              " Max.   :1.0000   Max.   :3094.1    Max.   :1.0000   Max.   :0   \n",
              "                                                                 \n",
              "    chf_flg          afib_flg        renal_flg         liver_flg      \n",
              " Min.   :0.0000   Min.   :0.0000   Min.   :0.00000   Min.   :0.00000  \n",
              " 1st Qu.:0.0000   1st Qu.:0.0000   1st Qu.:0.00000   1st Qu.:0.00000  \n",
              " Median :0.0000   Median :0.0000   Median :0.00000   Median :0.00000  \n",
              " Mean   :0.1199   Mean   :0.1166   Mean   :0.03378   Mean   :0.05574  \n",
              " 3rd Qu.:0.0000   3rd Qu.:0.0000   3rd Qu.:0.00000   3rd Qu.:0.00000  \n",
              " Max.   :1.0000   Max.   :1.0000   Max.   :1.00000   Max.   :1.00000  \n",
              "                                                                      \n",
              "    copd_flg         cad_flg          stroke_flg       mal_flg      \n",
              " Min.   :0.0000   Min.   :0.00000   Min.   :0.000   Min.   :0.0000  \n",
              " 1st Qu.:0.0000   1st Qu.:0.00000   1st Qu.:0.000   1st Qu.:0.0000  \n",
              " Median :0.0000   Median :0.00000   Median :0.000   Median :0.0000  \n",
              " Mean   :0.0884   Mean   :0.06926   Mean   :0.125   Mean   :0.1441  \n",
              " 3rd Qu.:0.0000   3rd Qu.:0.00000   3rd Qu.:0.000   3rd Qu.:0.0000  \n",
              " Max.   :1.0000   Max.   :1.00000   Max.   :1.000   Max.   :1.0000  \n",
              "                                                                    \n",
              "    resp_flg         map_1st           hr_1st          temp_1st     \n",
              " Min.   :0.0000   Min.   :  5.00   Min.   : 30.00   Min.   : 32.00  \n",
              " 1st Qu.:0.0000   1st Qu.: 76.67   1st Qu.: 74.75   1st Qu.: 96.90  \n",
              " Median :0.0000   Median : 87.00   Median : 87.00   Median : 98.10  \n",
              " Mean   :0.3181   Mean   : 88.25   Mean   : 87.91   Mean   : 97.79  \n",
              " 3rd Qu.:1.0000   3rd Qu.: 99.00   3rd Qu.:100.00   3rd Qu.: 99.30  \n",
              " Max.   :1.0000   Max.   :195.00   Max.   :158.00   Max.   :104.80  \n",
              "                                                    NA's   :3       \n",
              "    spo2_1st        abg_count         wbc_first        hgb_first    \n",
              " Min.   :  4.00   Min.   :  0.000   Min.   :  0.17   Min.   : 2.00  \n",
              " 1st Qu.: 98.00   1st Qu.:  1.000   1st Qu.:  8.20   1st Qu.:11.10  \n",
              " Median :100.00   Median :  3.000   Median : 11.30   Median :12.70  \n",
              " Mean   : 98.43   Mean   :  5.985   Mean   : 12.32   Mean   :12.55  \n",
              " 3rd Qu.:100.00   3rd Qu.:  7.000   3rd Qu.: 15.00   3rd Qu.:14.12  \n",
              " Max.   :100.00   Max.   :115.000   Max.   :109.80   Max.   :19.00  \n",
              "                                    NA's   :8        NA's   :8      \n",
              " platelet_first   sodium_first   potassium_first   tco2_first   \n",
              " Min.   :  7.0   Min.   :105.0   Min.   :1.900   Min.   : 2.00  \n",
              " 1st Qu.:182.0   1st Qu.:137.0   1st Qu.:3.600   1st Qu.:22.00  \n",
              " Median :239.0   Median :140.0   Median :4.000   Median :24.00  \n",
              " Mean   :246.1   Mean   :139.6   Mean   :4.108   Mean   :24.42  \n",
              " 3rd Qu.:297.0   3rd Qu.:142.0   3rd Qu.:4.400   3rd Qu.:27.00  \n",
              " Max.   :988.0   Max.   :165.0   Max.   :9.800   Max.   :62.00  \n",
              " NA's   :8       NA's   :5       NA's   :5       NA's   :5      \n",
              " chloride_first    bun_first      creatinine_first   po2_first    \n",
              " Min.   : 78.0   Min.   :  2.00   Min.   : 0.000   Min.   : 22.0  \n",
              " 1st Qu.:101.0   1st Qu.: 11.00   1st Qu.: 0.700   1st Qu.:108.0  \n",
              " Median :104.0   Median : 15.00   Median : 0.900   Median :195.0  \n",
              " Mean   :103.8   Mean   : 19.28   Mean   : 1.096   Mean   :227.6  \n",
              " 3rd Qu.:107.0   3rd Qu.: 22.00   3rd Qu.: 1.100   3rd Qu.:323.0  \n",
              " Max.   :133.0   Max.   :139.00   Max.   :18.300   Max.   :634.0  \n",
              " NA's   :5       NA's   :5        NA's   :6        NA's   :186    \n",
              "   pco2_first        iv_day_1      \n",
              " Min.   :  8.00   Min.   :    0.0  \n",
              " 1st Qu.: 36.00   1st Qu.:  329.8  \n",
              " Median : 41.00   Median : 1081.5  \n",
              " Mean   : 43.41   Mean   : 1622.9  \n",
              " 3rd Qu.: 47.00   3rd Qu.: 2493.9  \n",
              " Max.   :158.00   Max.   :13910.0  \n",
              " NA's   :186      NA's   :143      "
            ]
          },
          "metadata": {}
        }
      ]
    },
    {
      "cell_type": "code",
      "source": [
        "# find the missing values\n",
        "sum(is.na(df))"
      ],
      "metadata": {
        "colab": {
          "base_uri": "https://localhost:8080/",
          "height": 34
        },
        "id": "s6Me18BNnoj_",
        "outputId": "68cf4ea6-bf6b-4cee-d716-1ab9f36d356a"
      },
      "execution_count": 8,
      "outputs": [
        {
          "output_type": "display_data",
          "data": {
            "text/html": [
              "1241"
            ],
            "text/markdown": "1241",
            "text/latex": "1241",
            "text/plain": [
              "[1] 1241"
            ]
          },
          "metadata": {}
        }
      ]
    },
    {
      "cell_type": "code",
      "source": [
        "colSums(is.na(df))"
      ],
      "metadata": {
        "colab": {
          "base_uri": "https://localhost:8080/",
          "height": 104
        },
        "id": "ple8Qt7CojSb",
        "outputId": "79e9ef92-f0ea-4262-c10f-727f6c489802"
      },
      "execution_count": 9,
      "outputs": [
        {
          "output_type": "display_data",
          "data": {
            "text/html": [
              "<style>\n",
              ".dl-inline {width: auto; margin:0; padding: 0}\n",
              ".dl-inline>dt, .dl-inline>dd {float: none; width: auto; display: inline-block}\n",
              ".dl-inline>dt::after {content: \":\\0020\"; padding-right: .5ex}\n",
              ".dl-inline>dt:not(:first-of-type) {padding-left: .5ex}\n",
              "</style><dl class=dl-inline><dt>aline_flg</dt><dd>0</dd><dt>icu_los_day</dt><dd>0</dd><dt>hospital_los_day</dt><dd>0</dd><dt>age</dt><dd>0</dd><dt>gender_num</dt><dd>1</dd><dt>weight_first</dt><dd>110</dd><dt>bmi</dt><dd>466</dd><dt>sapsi_first</dt><dd>85</dd><dt>sofa_first</dt><dd>6</dd><dt>service_unit</dt><dd>0</dd><dt>service_num</dt><dd>0</dd><dt>day_icu_intime</dt><dd>0</dd><dt>day_icu_intime_num</dt><dd>0</dd><dt>hour_icu_intime</dt><dd>0</dd><dt>hosp_exp_flg</dt><dd>0</dd><dt>icu_exp_flg</dt><dd>0</dd><dt>day_28_flg</dt><dd>0</dd><dt>mort_day_censored</dt><dd>0</dd><dt>censor_flg</dt><dd>0</dd><dt>sepsis_flg</dt><dd>0</dd><dt>chf_flg</dt><dd>0</dd><dt>afib_flg</dt><dd>0</dd><dt>renal_flg</dt><dd>0</dd><dt>liver_flg</dt><dd>0</dd><dt>copd_flg</dt><dd>0</dd><dt>cad_flg</dt><dd>0</dd><dt>stroke_flg</dt><dd>0</dd><dt>mal_flg</dt><dd>0</dd><dt>resp_flg</dt><dd>0</dd><dt>map_1st</dt><dd>0</dd><dt>hr_1st</dt><dd>0</dd><dt>temp_1st</dt><dd>3</dd><dt>spo2_1st</dt><dd>0</dd><dt>abg_count</dt><dd>0</dd><dt>wbc_first</dt><dd>8</dd><dt>hgb_first</dt><dd>8</dd><dt>platelet_first</dt><dd>8</dd><dt>sodium_first</dt><dd>5</dd><dt>potassium_first</dt><dd>5</dd><dt>tco2_first</dt><dd>5</dd><dt>chloride_first</dt><dd>5</dd><dt>bun_first</dt><dd>5</dd><dt>creatinine_first</dt><dd>6</dd><dt>po2_first</dt><dd>186</dd><dt>pco2_first</dt><dd>186</dd><dt>iv_day_1</dt><dd>143</dd></dl>\n"
            ],
            "text/markdown": "aline_flg\n:   0icu_los_day\n:   0hospital_los_day\n:   0age\n:   0gender_num\n:   1weight_first\n:   110bmi\n:   466sapsi_first\n:   85sofa_first\n:   6service_unit\n:   0service_num\n:   0day_icu_intime\n:   0day_icu_intime_num\n:   0hour_icu_intime\n:   0hosp_exp_flg\n:   0icu_exp_flg\n:   0day_28_flg\n:   0mort_day_censored\n:   0censor_flg\n:   0sepsis_flg\n:   0chf_flg\n:   0afib_flg\n:   0renal_flg\n:   0liver_flg\n:   0copd_flg\n:   0cad_flg\n:   0stroke_flg\n:   0mal_flg\n:   0resp_flg\n:   0map_1st\n:   0hr_1st\n:   0temp_1st\n:   3spo2_1st\n:   0abg_count\n:   0wbc_first\n:   8hgb_first\n:   8platelet_first\n:   8sodium_first\n:   5potassium_first\n:   5tco2_first\n:   5chloride_first\n:   5bun_first\n:   5creatinine_first\n:   6po2_first\n:   186pco2_first\n:   186iv_day_1\n:   143\n\n",
            "text/latex": "\\begin{description*}\n\\item[aline\\textbackslash{}\\_flg] 0\n\\item[icu\\textbackslash{}\\_los\\textbackslash{}\\_day] 0\n\\item[hospital\\textbackslash{}\\_los\\textbackslash{}\\_day] 0\n\\item[age] 0\n\\item[gender\\textbackslash{}\\_num] 1\n\\item[weight\\textbackslash{}\\_first] 110\n\\item[bmi] 466\n\\item[sapsi\\textbackslash{}\\_first] 85\n\\item[sofa\\textbackslash{}\\_first] 6\n\\item[service\\textbackslash{}\\_unit] 0\n\\item[service\\textbackslash{}\\_num] 0\n\\item[day\\textbackslash{}\\_icu\\textbackslash{}\\_intime] 0\n\\item[day\\textbackslash{}\\_icu\\textbackslash{}\\_intime\\textbackslash{}\\_num] 0\n\\item[hour\\textbackslash{}\\_icu\\textbackslash{}\\_intime] 0\n\\item[hosp\\textbackslash{}\\_exp\\textbackslash{}\\_flg] 0\n\\item[icu\\textbackslash{}\\_exp\\textbackslash{}\\_flg] 0\n\\item[day\\textbackslash{}\\_28\\textbackslash{}\\_flg] 0\n\\item[mort\\textbackslash{}\\_day\\textbackslash{}\\_censored] 0\n\\item[censor\\textbackslash{}\\_flg] 0\n\\item[sepsis\\textbackslash{}\\_flg] 0\n\\item[chf\\textbackslash{}\\_flg] 0\n\\item[afib\\textbackslash{}\\_flg] 0\n\\item[renal\\textbackslash{}\\_flg] 0\n\\item[liver\\textbackslash{}\\_flg] 0\n\\item[copd\\textbackslash{}\\_flg] 0\n\\item[cad\\textbackslash{}\\_flg] 0\n\\item[stroke\\textbackslash{}\\_flg] 0\n\\item[mal\\textbackslash{}\\_flg] 0\n\\item[resp\\textbackslash{}\\_flg] 0\n\\item[map\\textbackslash{}\\_1st] 0\n\\item[hr\\textbackslash{}\\_1st] 0\n\\item[temp\\textbackslash{}\\_1st] 3\n\\item[spo2\\textbackslash{}\\_1st] 0\n\\item[abg\\textbackslash{}\\_count] 0\n\\item[wbc\\textbackslash{}\\_first] 8\n\\item[hgb\\textbackslash{}\\_first] 8\n\\item[platelet\\textbackslash{}\\_first] 8\n\\item[sodium\\textbackslash{}\\_first] 5\n\\item[potassium\\textbackslash{}\\_first] 5\n\\item[tco2\\textbackslash{}\\_first] 5\n\\item[chloride\\textbackslash{}\\_first] 5\n\\item[bun\\textbackslash{}\\_first] 5\n\\item[creatinine\\textbackslash{}\\_first] 6\n\\item[po2\\textbackslash{}\\_first] 186\n\\item[pco2\\textbackslash{}\\_first] 186\n\\item[iv\\textbackslash{}\\_day\\textbackslash{}\\_1] 143\n\\end{description*}\n",
            "text/plain": [
              "         aline_flg        icu_los_day   hospital_los_day                age \n",
              "                 0                  0                  0                  0 \n",
              "        gender_num       weight_first                bmi        sapsi_first \n",
              "                 1                110                466                 85 \n",
              "        sofa_first       service_unit        service_num     day_icu_intime \n",
              "                 6                  0                  0                  0 \n",
              "day_icu_intime_num    hour_icu_intime       hosp_exp_flg        icu_exp_flg \n",
              "                 0                  0                  0                  0 \n",
              "        day_28_flg  mort_day_censored         censor_flg         sepsis_flg \n",
              "                 0                  0                  0                  0 \n",
              "           chf_flg           afib_flg          renal_flg          liver_flg \n",
              "                 0                  0                  0                  0 \n",
              "          copd_flg            cad_flg         stroke_flg            mal_flg \n",
              "                 0                  0                  0                  0 \n",
              "          resp_flg            map_1st             hr_1st           temp_1st \n",
              "                 0                  0                  0                  3 \n",
              "          spo2_1st          abg_count          wbc_first          hgb_first \n",
              "                 0                  0                  8                  8 \n",
              "    platelet_first       sodium_first    potassium_first         tco2_first \n",
              "                 8                  5                  5                  5 \n",
              "    chloride_first          bun_first   creatinine_first          po2_first \n",
              "                 5                  5                  6                186 \n",
              "        pco2_first           iv_day_1 \n",
              "               186                143 "
            ]
          },
          "metadata": {}
        }
      ]
    },
    {
      "cell_type": "code",
      "source": [
        "dim(df)"
      ],
      "metadata": {
        "colab": {
          "base_uri": "https://localhost:8080/",
          "height": 34
        },
        "id": "dPnigcIkomYi",
        "outputId": "d553ac21-b4de-451c-f332-fa5a9c151153"
      },
      "execution_count": 10,
      "outputs": [
        {
          "output_type": "display_data",
          "data": {
            "text/html": [
              "<style>\n",
              ".list-inline {list-style: none; margin:0; padding: 0}\n",
              ".list-inline>li {display: inline-block}\n",
              ".list-inline>li:not(:last-child)::after {content: \"\\00b7\"; padding: 0 .5ex}\n",
              "</style>\n",
              "<ol class=list-inline><li>1776</li><li>46</li></ol>\n"
            ],
            "text/markdown": "1. 1776\n2. 46\n\n\n",
            "text/latex": "\\begin{enumerate*}\n\\item 1776\n\\item 46\n\\end{enumerate*}\n",
            "text/plain": [
              "[1] 1776   46"
            ]
          },
          "metadata": {}
        }
      ]
    },
    {
      "cell_type": "code",
      "source": [
        "nrow(df)"
      ],
      "metadata": {
        "colab": {
          "base_uri": "https://localhost:8080/",
          "height": 34
        },
        "id": "b_YLUaN4pKCV",
        "outputId": "1f121c14-d9d9-48f1-c57a-ca739d6c1ed0"
      },
      "execution_count": 11,
      "outputs": [
        {
          "output_type": "display_data",
          "data": {
            "text/html": [
              "1776"
            ],
            "text/markdown": "1776",
            "text/latex": "1776",
            "text/plain": [
              "[1] 1776"
            ]
          },
          "metadata": {}
        }
      ]
    },
    {
      "cell_type": "code",
      "source": [
        "df_clean <- na.omit(df)"
      ],
      "metadata": {
        "id": "mkJ4rYkBpMnc"
      },
      "execution_count": 12,
      "outputs": []
    },
    {
      "cell_type": "code",
      "source": [
        "dim(df_clean)"
      ],
      "metadata": {
        "colab": {
          "base_uri": "https://localhost:8080/",
          "height": 34
        },
        "id": "4KvNZ53YpVII",
        "outputId": "e2a6bb9e-f604-4dbd-e344-aa7d0623d79b"
      },
      "execution_count": 13,
      "outputs": [
        {
          "output_type": "display_data",
          "data": {
            "text/html": [
              "<style>\n",
              ".list-inline {list-style: none; margin:0; padding: 0}\n",
              ".list-inline>li {display: inline-block}\n",
              ".list-inline>li:not(:last-child)::after {content: \"\\00b7\"; padding: 0 .5ex}\n",
              "</style>\n",
              "<ol class=list-inline><li>1064</li><li>46</li></ol>\n"
            ],
            "text/markdown": "1. 1064\n2. 46\n\n\n",
            "text/latex": "\\begin{enumerate*}\n\\item 1064\n\\item 46\n\\end{enumerate*}\n",
            "text/plain": [
              "[1] 1064   46"
            ]
          },
          "metadata": {}
        }
      ]
    },
    {
      "cell_type": "markdown",
      "source": [
        "- Remove the missing values using mean inputing"
      ],
      "metadata": {
        "id": "w5UIO0-FtN4E"
      }
    },
    {
      "cell_type": "code",
      "source": [
        "install.packages(\"mice\")\n",
        "library(mice)"
      ],
      "metadata": {
        "colab": {
          "base_uri": "https://localhost:8080/"
        },
        "id": "4NxI5RsLsD97",
        "outputId": "e84cdc4c-1b5f-41be-f22b-99cd0d5975a8"
      },
      "execution_count": 15,
      "outputs": [
        {
          "output_type": "stream",
          "name": "stderr",
          "text": [
            "Installing package into ‘/usr/local/lib/R/site-library’\n",
            "(as ‘lib’ is unspecified)\n",
            "\n",
            "\n",
            "Attaching package: ‘mice’\n",
            "\n",
            "\n",
            "The following object is masked from ‘package:stats’:\n",
            "\n",
            "    filter\n",
            "\n",
            "\n",
            "The following objects are masked from ‘package:base’:\n",
            "\n",
            "    cbind, rbind\n",
            "\n",
            "\n"
          ]
        }
      ]
    },
    {
      "cell_type": "code",
      "source": [
        "# Impute the datas\n",
        "imputed_data <- mice(df, m=1, method=\"mean\", mexit=1)\n",
        "df_complete <- complete(imputed_data)"
      ],
      "metadata": {
        "colab": {
          "base_uri": "https://localhost:8080/"
        },
        "id": "he7GqvccuI3A",
        "outputId": "19926914-1971-4758-f6e9-05d4828a7e4a"
      },
      "execution_count": 16,
      "outputs": [
        {
          "output_type": "stream",
          "name": "stdout",
          "text": [
            "\n",
            " iter imp variable\n",
            "  1   1  gender_num  weight_first  bmi  sapsi_first  sofa_first  temp_1st  wbc_first  hgb_first  platelet_first  sodium_first  potassium_first  tco2_first  chloride_first  bun_first  creatinine_first  po2_first  pco2_first  iv_day_1\n",
            "  2   1  gender_num  weight_first  bmi  sapsi_first  sofa_first  temp_1st  wbc_first  hgb_first  platelet_first  sodium_first  potassium_first  tco2_first  chloride_first  bun_first  creatinine_first  po2_first  pco2_first  iv_day_1\n",
            "  3   1  gender_num  weight_first  bmi  sapsi_first  sofa_first  temp_1st  wbc_first  hgb_first  platelet_first  sodium_first  potassium_first  tco2_first  chloride_first  bun_first  creatinine_first  po2_first  pco2_first  iv_day_1\n",
            "  4   1  gender_num  weight_first  bmi  sapsi_first  sofa_first  temp_1st  wbc_first  hgb_first  platelet_first  sodium_first  potassium_first  tco2_first  chloride_first  bun_first  creatinine_first  po2_first  pco2_first  iv_day_1\n",
            "  5   1  gender_num  weight_first  bmi  sapsi_first  sofa_first  temp_1st  wbc_first  hgb_first  platelet_first  sodium_first  potassium_first  tco2_first  chloride_first  bun_first  creatinine_first  po2_first  pco2_first  iv_day_1\n"
          ]
        },
        {
          "output_type": "stream",
          "name": "stderr",
          "text": [
            "Warning message:\n",
            "“Number of logged events: 3”\n"
          ]
        }
      ]
    },
    {
      "cell_type": "code",
      "source": [
        "head(df_complete)"
      ],
      "metadata": {
        "colab": {
          "base_uri": "https://localhost:8080/",
          "height": 306
        },
        "id": "IWhn81ZTvWBl",
        "outputId": "ca57959c-9749-4814-bb76-7ca095402460"
      },
      "execution_count": 17,
      "outputs": [
        {
          "output_type": "display_data",
          "data": {
            "text/html": [
              "<table class=\"dataframe\">\n",
              "<caption>A data.frame: 6 × 46</caption>\n",
              "<thead>\n",
              "\t<tr><th></th><th scope=col>aline_flg</th><th scope=col>icu_los_day</th><th scope=col>hospital_los_day</th><th scope=col>age</th><th scope=col>gender_num</th><th scope=col>weight_first</th><th scope=col>bmi</th><th scope=col>sapsi_first</th><th scope=col>sofa_first</th><th scope=col>service_unit</th><th scope=col>⋯</th><th scope=col>platelet_first</th><th scope=col>sodium_first</th><th scope=col>potassium_first</th><th scope=col>tco2_first</th><th scope=col>chloride_first</th><th scope=col>bun_first</th><th scope=col>creatinine_first</th><th scope=col>po2_first</th><th scope=col>pco2_first</th><th scope=col>iv_day_1</th></tr>\n",
              "\t<tr><th></th><th scope=col>&lt;int&gt;</th><th scope=col>&lt;dbl&gt;</th><th scope=col>&lt;int&gt;</th><th scope=col>&lt;dbl&gt;</th><th scope=col>&lt;dbl&gt;</th><th scope=col>&lt;dbl&gt;</th><th scope=col>&lt;dbl&gt;</th><th scope=col>&lt;dbl&gt;</th><th scope=col>&lt;dbl&gt;</th><th scope=col>&lt;chr&gt;</th><th scope=col>⋯</th><th scope=col>&lt;dbl&gt;</th><th scope=col>&lt;dbl&gt;</th><th scope=col>&lt;dbl&gt;</th><th scope=col>&lt;dbl&gt;</th><th scope=col>&lt;dbl&gt;</th><th scope=col>&lt;dbl&gt;</th><th scope=col>&lt;dbl&gt;</th><th scope=col>&lt;dbl&gt;</th><th scope=col>&lt;dbl&gt;</th><th scope=col>&lt;dbl&gt;</th></tr>\n",
              "</thead>\n",
              "<tbody>\n",
              "\t<tr><th scope=row>1</th><td>1</td><td>7.63</td><td>13</td><td>72.36841</td><td>1</td><td>75.00000</td><td>29.91279</td><td>15.00000</td><td>9</td><td>SICU</td><td>⋯</td><td>354.0000</td><td>138.000</td><td>4.600000</td><td>15.00000</td><td>109.0000</td><td>41.00000</td><td>1.600000</td><td>196.0000</td><td>39.00000</td><td>2230.875</td></tr>\n",
              "\t<tr><th scope=row>2</th><td>0</td><td>1.14</td><td> 1</td><td>64.92076</td><td>0</td><td>55.00000</td><td>20.12131</td><td>14.13661</td><td>5</td><td>MICU</td><td>⋯</td><td>246.0831</td><td>139.559</td><td>4.107623</td><td>24.41666</td><td>103.8391</td><td>19.27781</td><td>1.095706</td><td>227.6233</td><td>43.41384</td><td> 600.000</td></tr>\n",
              "\t<tr><th scope=row>3</th><td>0</td><td>2.86</td><td> 5</td><td>36.50000</td><td>0</td><td>70.00000</td><td>27.11827</td><td>16.00000</td><td>5</td><td>MICU</td><td>⋯</td><td>295.0000</td><td>144.000</td><td>3.900000</td><td>17.00000</td><td>101.0000</td><td>16.00000</td><td>0.800000</td><td>298.0000</td><td>30.00000</td><td>2086.800</td></tr>\n",
              "\t<tr><th scope=row>4</th><td>1</td><td>0.58</td><td> 3</td><td>44.49191</td><td>0</td><td>80.07595</td><td>27.82732</td><td>21.00000</td><td>7</td><td>SICU</td><td>⋯</td><td>262.0000</td><td>139.000</td><td>4.200000</td><td>31.00000</td><td>100.0000</td><td>16.00000</td><td>0.500000</td><td>146.0000</td><td>23.00000</td><td>1622.908</td></tr>\n",
              "\t<tr><th scope=row>5</th><td>1</td><td>1.75</td><td> 5</td><td>23.74217</td><td>1</td><td>95.20000</td><td>28.46456</td><td>18.00000</td><td>7</td><td>SICU</td><td>⋯</td><td> 22.0000</td><td>146.000</td><td>3.400000</td><td>19.00000</td><td>110.0000</td><td>10.00000</td><td>1.000000</td><td>134.0000</td><td>30.00000</td><td>2358.244</td></tr>\n",
              "\t<tr><th scope=row>6</th><td>0</td><td>1.38</td><td> 9</td><td>36.54657</td><td>1</td><td>72.00000</td><td>23.98240</td><td>14.00000</td><td>5</td><td>SICU</td><td>⋯</td><td>182.0000</td><td>145.000</td><td>3.600000</td><td>26.00000</td><td>110.0000</td><td>10.00000</td><td>0.700000</td><td>227.6233</td><td>43.41384</td><td>1877.560</td></tr>\n",
              "</tbody>\n",
              "</table>\n"
            ],
            "text/markdown": "\nA data.frame: 6 × 46\n\n| <!--/--> | aline_flg &lt;int&gt; | icu_los_day &lt;dbl&gt; | hospital_los_day &lt;int&gt; | age &lt;dbl&gt; | gender_num &lt;dbl&gt; | weight_first &lt;dbl&gt; | bmi &lt;dbl&gt; | sapsi_first &lt;dbl&gt; | sofa_first &lt;dbl&gt; | service_unit &lt;chr&gt; | ⋯ ⋯ | platelet_first &lt;dbl&gt; | sodium_first &lt;dbl&gt; | potassium_first &lt;dbl&gt; | tco2_first &lt;dbl&gt; | chloride_first &lt;dbl&gt; | bun_first &lt;dbl&gt; | creatinine_first &lt;dbl&gt; | po2_first &lt;dbl&gt; | pco2_first &lt;dbl&gt; | iv_day_1 &lt;dbl&gt; |\n|---|---|---|---|---|---|---|---|---|---|---|---|---|---|---|---|---|---|---|---|---|---|\n| 1 | 1 | 7.63 | 13 | 72.36841 | 1 | 75.00000 | 29.91279 | 15.00000 | 9 | SICU | ⋯ | 354.0000 | 138.000 | 4.600000 | 15.00000 | 109.0000 | 41.00000 | 1.600000 | 196.0000 | 39.00000 | 2230.875 |\n| 2 | 0 | 1.14 |  1 | 64.92076 | 0 | 55.00000 | 20.12131 | 14.13661 | 5 | MICU | ⋯ | 246.0831 | 139.559 | 4.107623 | 24.41666 | 103.8391 | 19.27781 | 1.095706 | 227.6233 | 43.41384 |  600.000 |\n| 3 | 0 | 2.86 |  5 | 36.50000 | 0 | 70.00000 | 27.11827 | 16.00000 | 5 | MICU | ⋯ | 295.0000 | 144.000 | 3.900000 | 17.00000 | 101.0000 | 16.00000 | 0.800000 | 298.0000 | 30.00000 | 2086.800 |\n| 4 | 1 | 0.58 |  3 | 44.49191 | 0 | 80.07595 | 27.82732 | 21.00000 | 7 | SICU | ⋯ | 262.0000 | 139.000 | 4.200000 | 31.00000 | 100.0000 | 16.00000 | 0.500000 | 146.0000 | 23.00000 | 1622.908 |\n| 5 | 1 | 1.75 |  5 | 23.74217 | 1 | 95.20000 | 28.46456 | 18.00000 | 7 | SICU | ⋯ |  22.0000 | 146.000 | 3.400000 | 19.00000 | 110.0000 | 10.00000 | 1.000000 | 134.0000 | 30.00000 | 2358.244 |\n| 6 | 0 | 1.38 |  9 | 36.54657 | 1 | 72.00000 | 23.98240 | 14.00000 | 5 | SICU | ⋯ | 182.0000 | 145.000 | 3.600000 | 26.00000 | 110.0000 | 10.00000 | 0.700000 | 227.6233 | 43.41384 | 1877.560 |\n\n",
            "text/latex": "A data.frame: 6 × 46\n\\begin{tabular}{r|lllllllllllllllllllll}\n  & aline\\_flg & icu\\_los\\_day & hospital\\_los\\_day & age & gender\\_num & weight\\_first & bmi & sapsi\\_first & sofa\\_first & service\\_unit & ⋯ & platelet\\_first & sodium\\_first & potassium\\_first & tco2\\_first & chloride\\_first & bun\\_first & creatinine\\_first & po2\\_first & pco2\\_first & iv\\_day\\_1\\\\\n  & <int> & <dbl> & <int> & <dbl> & <dbl> & <dbl> & <dbl> & <dbl> & <dbl> & <chr> & ⋯ & <dbl> & <dbl> & <dbl> & <dbl> & <dbl> & <dbl> & <dbl> & <dbl> & <dbl> & <dbl>\\\\\n\\hline\n\t1 & 1 & 7.63 & 13 & 72.36841 & 1 & 75.00000 & 29.91279 & 15.00000 & 9 & SICU & ⋯ & 354.0000 & 138.000 & 4.600000 & 15.00000 & 109.0000 & 41.00000 & 1.600000 & 196.0000 & 39.00000 & 2230.875\\\\\n\t2 & 0 & 1.14 &  1 & 64.92076 & 0 & 55.00000 & 20.12131 & 14.13661 & 5 & MICU & ⋯ & 246.0831 & 139.559 & 4.107623 & 24.41666 & 103.8391 & 19.27781 & 1.095706 & 227.6233 & 43.41384 &  600.000\\\\\n\t3 & 0 & 2.86 &  5 & 36.50000 & 0 & 70.00000 & 27.11827 & 16.00000 & 5 & MICU & ⋯ & 295.0000 & 144.000 & 3.900000 & 17.00000 & 101.0000 & 16.00000 & 0.800000 & 298.0000 & 30.00000 & 2086.800\\\\\n\t4 & 1 & 0.58 &  3 & 44.49191 & 0 & 80.07595 & 27.82732 & 21.00000 & 7 & SICU & ⋯ & 262.0000 & 139.000 & 4.200000 & 31.00000 & 100.0000 & 16.00000 & 0.500000 & 146.0000 & 23.00000 & 1622.908\\\\\n\t5 & 1 & 1.75 &  5 & 23.74217 & 1 & 95.20000 & 28.46456 & 18.00000 & 7 & SICU & ⋯ &  22.0000 & 146.000 & 3.400000 & 19.00000 & 110.0000 & 10.00000 & 1.000000 & 134.0000 & 30.00000 & 2358.244\\\\\n\t6 & 0 & 1.38 &  9 & 36.54657 & 1 & 72.00000 & 23.98240 & 14.00000 & 5 & SICU & ⋯ & 182.0000 & 145.000 & 3.600000 & 26.00000 & 110.0000 & 10.00000 & 0.700000 & 227.6233 & 43.41384 & 1877.560\\\\\n\\end{tabular}\n",
            "text/plain": [
              "  aline_flg icu_los_day hospital_los_day age      gender_num weight_first\n",
              "1 1         7.63        13               72.36841 1          75.00000    \n",
              "2 0         1.14         1               64.92076 0          55.00000    \n",
              "3 0         2.86         5               36.50000 0          70.00000    \n",
              "4 1         0.58         3               44.49191 0          80.07595    \n",
              "5 1         1.75         5               23.74217 1          95.20000    \n",
              "6 0         1.38         9               36.54657 1          72.00000    \n",
              "  bmi      sapsi_first sofa_first service_unit ⋯ platelet_first sodium_first\n",
              "1 29.91279 15.00000    9          SICU         ⋯ 354.0000       138.000     \n",
              "2 20.12131 14.13661    5          MICU         ⋯ 246.0831       139.559     \n",
              "3 27.11827 16.00000    5          MICU         ⋯ 295.0000       144.000     \n",
              "4 27.82732 21.00000    7          SICU         ⋯ 262.0000       139.000     \n",
              "5 28.46456 18.00000    7          SICU         ⋯  22.0000       146.000     \n",
              "6 23.98240 14.00000    5          SICU         ⋯ 182.0000       145.000     \n",
              "  potassium_first tco2_first chloride_first bun_first creatinine_first\n",
              "1 4.600000        15.00000   109.0000       41.00000  1.600000        \n",
              "2 4.107623        24.41666   103.8391       19.27781  1.095706        \n",
              "3 3.900000        17.00000   101.0000       16.00000  0.800000        \n",
              "4 4.200000        31.00000   100.0000       16.00000  0.500000        \n",
              "5 3.400000        19.00000   110.0000       10.00000  1.000000        \n",
              "6 3.600000        26.00000   110.0000       10.00000  0.700000        \n",
              "  po2_first pco2_first iv_day_1\n",
              "1 196.0000  39.00000   2230.875\n",
              "2 227.6233  43.41384    600.000\n",
              "3 298.0000  30.00000   2086.800\n",
              "4 146.0000  23.00000   1622.908\n",
              "5 134.0000  30.00000   2358.244\n",
              "6 227.6233  43.41384   1877.560"
            ]
          },
          "metadata": {}
        }
      ]
    },
    {
      "cell_type": "code",
      "source": [
        "sum(is.na(df_complete))"
      ],
      "metadata": {
        "colab": {
          "base_uri": "https://localhost:8080/",
          "height": 34
        },
        "id": "qqN9BzyRvahM",
        "outputId": "04684908-8658-4193-f1cf-82ea0c006efd"
      },
      "execution_count": 18,
      "outputs": [
        {
          "output_type": "display_data",
          "data": {
            "text/html": [
              "0"
            ],
            "text/markdown": "0",
            "text/latex": "0",
            "text/plain": [
              "[1] 0"
            ]
          },
          "metadata": {}
        }
      ]
    },
    {
      "cell_type": "markdown",
      "source": [
        "- Analysis of the patients' outcomes by the input variables"
      ],
      "metadata": {
        "id": "ziwPtLP8vjgU"
      }
    },
    {
      "cell_type": "code",
      "source": [
        "library(ggplot2)\n",
        "library(tidyverse)\n",
        "library(gtsummary)"
      ],
      "metadata": {
        "id": "uah_vgTpvimz"
      },
      "execution_count": 19,
      "outputs": []
    },
    {
      "cell_type": "code",
      "source": [
        "# plot the data by the age distribution and aline_flg\n",
        "df_complete <- df_complete %>%\n",
        "  mutate(\n",
        "  IAC_used = factor(aline_flg, labels = c(\"No\",\"Yes\")),\n",
        "  Outcome_28d = factor(day_28_flg, labels= c(\"Alive within 28 days\",\"Dead within 28 days\"))\n",
        "  )"
      ],
      "metadata": {
        "id": "NdH_q6-PvoQV"
      },
      "execution_count": 20,
      "outputs": []
    },
    {
      "cell_type": "code",
      "source": [
        "# mutate the dataframe by age IAC\n",
        "df_complete %>%\n",
        "  group_by(IAC_used, Outcome_28d) %>%\n",
        "  summarise(\n",
        "    count = n(),\n",
        "    mean_age = mean(age, na.rm = TRUE)\n",
        "  ) %>%\n",
        "  mutate(percent = count / sum(count) * 100)"
      ],
      "metadata": {
        "colab": {
          "base_uri": "https://localhost:8080/",
          "height": 258
        },
        "id": "FH5KXno-G9SD",
        "outputId": "d8a7774d-de70-4a27-b6be-2653aad1327f"
      },
      "execution_count": 21,
      "outputs": [
        {
          "output_type": "stream",
          "name": "stderr",
          "text": [
            "\u001b[1m\u001b[22m`summarise()` has grouped output by 'IAC_used'. You can override using the\n",
            "`.groups` argument.\n"
          ]
        },
        {
          "output_type": "display_data",
          "data": {
            "text/html": [
              "<table class=\"dataframe\">\n",
              "<caption>A grouped_df: 4 × 5</caption>\n",
              "<thead>\n",
              "\t<tr><th scope=col>IAC_used</th><th scope=col>Outcome_28d</th><th scope=col>count</th><th scope=col>mean_age</th><th scope=col>percent</th></tr>\n",
              "\t<tr><th scope=col>&lt;fct&gt;</th><th scope=col>&lt;fct&gt;</th><th scope=col>&lt;int&gt;</th><th scope=col>&lt;dbl&gt;</th><th scope=col>&lt;dbl&gt;</th></tr>\n",
              "</thead>\n",
              "<tbody>\n",
              "\t<tr><td>No </td><td>Alive within 28 days</td><td>679</td><td>49.20234</td><td>85.73232</td></tr>\n",
              "\t<tr><td>No </td><td>Dead within 28 days </td><td>113</td><td>75.93444</td><td>14.26768</td></tr>\n",
              "\t<tr><td>Yes</td><td>Alive within 28 days</td><td>814</td><td>52.10423</td><td>82.72358</td></tr>\n",
              "\t<tr><td>Yes</td><td>Dead within 28 days </td><td>170</td><td>71.62620</td><td>17.27642</td></tr>\n",
              "</tbody>\n",
              "</table>\n"
            ],
            "text/markdown": "\nA grouped_df: 4 × 5\n\n| IAC_used &lt;fct&gt; | Outcome_28d &lt;fct&gt; | count &lt;int&gt; | mean_age &lt;dbl&gt; | percent &lt;dbl&gt; |\n|---|---|---|---|---|\n| No  | Alive within 28 days | 679 | 49.20234 | 85.73232 |\n| No  | Dead within 28 days  | 113 | 75.93444 | 14.26768 |\n| Yes | Alive within 28 days | 814 | 52.10423 | 82.72358 |\n| Yes | Dead within 28 days  | 170 | 71.62620 | 17.27642 |\n\n",
            "text/latex": "A grouped\\_df: 4 × 5\n\\begin{tabular}{lllll}\n IAC\\_used & Outcome\\_28d & count & mean\\_age & percent\\\\\n <fct> & <fct> & <int> & <dbl> & <dbl>\\\\\n\\hline\n\t No  & Alive within 28 days & 679 & 49.20234 & 85.73232\\\\\n\t No  & Dead within 28 days  & 113 & 75.93444 & 14.26768\\\\\n\t Yes & Alive within 28 days & 814 & 52.10423 & 82.72358\\\\\n\t Yes & Dead within 28 days  & 170 & 71.62620 & 17.27642\\\\\n\\end{tabular}\n",
            "text/plain": [
              "  IAC_used Outcome_28d          count mean_age percent \n",
              "1 No       Alive within 28 days 679   49.20234 85.73232\n",
              "2 No       Dead within 28 days  113   75.93444 14.26768\n",
              "3 Yes      Alive within 28 days 814   52.10423 82.72358\n",
              "4 Yes      Dead within 28 days  170   71.62620 17.27642"
            ]
          },
          "metadata": {}
        }
      ]
    },
    {
      "cell_type": "code",
      "source": [
        "# visualize the outcomes\n",
        "df_complete %>%\n",
        "  ggplot(aes(x = IAC_used, fill = Outcome_28d)) +\n",
        "  geom_bar(position = \"fill\") +\n",
        "  labs(\n",
        "    title = \"28-Day Outcome by IAC Use\",\n",
        "    x = \"IAC Used\",\n",
        "    y = \"Proportion\"\n",
        "  ) +\n",
        "  scale_y_continuous(labels = scales::percent)"
      ],
      "metadata": {
        "colab": {
          "base_uri": "https://localhost:8080/",
          "height": 437
        },
        "id": "XxwGk_PJIHV8",
        "outputId": "9d64839c-378d-423f-a7b8-dab1e1a576f1"
      },
      "execution_count": 22,
      "outputs": [
        {
          "output_type": "display_data",
          "data": {
            "text/plain": [
              "plot without title"
            ],
            "image/png": "[encoded data removed]"
          },
          "metadata": {
            "image/png": {
              "width": 420,
              "height": 420
            }
          }
        }
      ]
    },
    {
      "cell_type": "code",
      "source": [
        "# box plot of the age vs outcome\n",
        "ggplot(df_complete, aes(x = Outcome_28d, y = age, fill = Outcome_28d)) +\n",
        "  geom_boxplot() +\n",
        "  labs(\n",
        "    title = \"Age Distribution by 28-Day Outcome\",\n",
        "    x = \"28-Day Outcome\",\n",
        "    y = \"Age (years)\"\n",
        "  )"
      ],
      "metadata": {
        "colab": {
          "base_uri": "https://localhost:8080/",
          "height": 437
        },
        "id": "PGvRoajgIP8K",
        "outputId": "4f53f90b-89d3-4a1e-a35d-4d8434384867"
      },
      "execution_count": 23,
      "outputs": [
        {
          "output_type": "display_data",
          "data": {
            "text/plain": [
              "plot without title"
            ],
            "image/png": "[encoded data removed]"
          },
          "metadata": {
            "image/png": {
              "width": 420,
              "height": 420
            }
          }
        }
      ]
    },
    {
      "cell_type": "code",
      "source": [
        "# visualize for the length of the stay and it's affect on the dead or alive\n",
        "ggplot(df_complete, aes(x = Outcome_28d, y= icu_los_day, fill=Outcome_28d)) +\n",
        "  geom_boxplot() +\n",
        "  labs(\n",
        "  title = \"Length of the stay in the 28-Day outcome\",\n",
        "  x = \"28 day outcome\",\n",
        "  y = \"Length of the stay\"\n",
        "  )"
      ],
      "metadata": {
        "colab": {
          "base_uri": "https://localhost:8080/",
          "height": 437
        },
        "id": "KDGodpMVIYoO",
        "outputId": "6c3f34d3-01ac-44ca-9733-2b841de16f15"
      },
      "execution_count": 24,
      "outputs": [
        {
          "output_type": "display_data",
          "data": {
            "text/plain": [
              "plot without title"
            ],
            "image/png": "[encoded data removed]"
          },
          "metadata": {
            "image/png": {
              "width": 420,
              "height": 420
            }
          }
        }
      ]
    },
    {
      "cell_type": "code",
      "source": [
        "import pandas as pd\n",
        "import matplotlib.pyplot as plt\n",
        "import seaborn as sns\n",
        "\n",
        "\n",
        "# Example dataframe structure\n",
        "numeric_cols = [\n",
        "    \"icu_los_day\", \"hospital_los_day\", \"age\", \"weight_first\", \"bmi\",\n",
        "    \"sapsi_first\", \"sofa_first\", \"map_1st\", \"hr_1st\", \"temp_1st\",\n",
        "    \"spo2_1st\", \"wbc_first\", \"hgb_first\", \"platelet_first\", \"sodium_first\",\n",
        "    \"potassium_first\", \"tco2_first\", \"chloride_first\", \"bun_first\", \"creatinine_first\",\n",
        "    \"po2_first\", \"pco2_first\", \"iv_day_1\"\n",
        "]\n",
        "\n",
        "# Simulate data\n",
        "import numpy as np\n",
        "np.random.seed(42)\n",
        "df = pd.DataFrame(np.random.rand(100, len(numeric_cols)) * 100, columns=numeric_cols)\n",
        "df[\"day_28_flg\"] = np.random.choice([\"Alive\", \"Dead\"], 100)\n",
        "\n",
        "# Set up the layout for boxplots\n",
        "num_cols = len(numeric_cols)\n",
        "cols = 4  # number of plots per row\n",
        "rows = num_cols // cols + (num_cols % cols > 0)\n",
        "\n",
        "fig, axes = plt.subplots(rows, cols, figsize=(20, 5*rows))\n",
        "axes = axes.flatten()\n",
        "\n",
        "for i, col in enumerate(numeric_cols):\n",
        "    sns.boxplot(x=\"day_28_flg\", y=col, data=df, ax=axes[i])\n",
        "    axes[i].set_title(f\"{col} vs 28-Day Outcome\")\n",
        "    axes[i].set_xlabel(\"28-Day Outcome\")\n",
        "    axes[i].set_ylabel(col)\n",
        "\n",
        "# Hide any unused subplots\n",
        "for j in range(i+1, len(axes)):\n",
        "    fig.delaxes(axes[j])\n",
        "\n",
        "fig.suptitle(\"Distribution of Numeric Variables by 28-Day Outcome\", fontsize=16, fontweight=\"bold\")\n",
        "plt.tight_layout(rect=[0, 0, 1, 0.97])\n",
        "plt.show()"
      ],
      "metadata": {
        "id": "Rzfxvw14KpLF"
      },
      "execution_count": null,
      "outputs": []
    },
    {
      "cell_type": "markdown",
      "source": [
        "### Logsitics regression model for the target prediction"
      ],
      "metadata": {
        "id": "9dWpSoKMOKOO"
      }
    },
    {
      "cell_type": "code",
      "source": [
        "install.packages(\"caret\")\n",
        "library(tidyverse)\n",
        "library(caret)\n",
        "library(pROC)"
      ],
      "metadata": {
        "colab": {
          "base_uri": "https://localhost:8080/"
        },
        "id": "edK8BundLs17",
        "outputId": "201d2993-39a0-4809-9da1-be8ef94638b5"
      },
      "execution_count": 26,
      "outputs": [
        {
          "output_type": "stream",
          "name": "stderr",
          "text": [
            "Installing package into ‘/usr/local/lib/R/site-library’\n",
            "(as ‘lib’ is unspecified)\n",
            "\n",
            "also installing the dependencies ‘listenv’, ‘parallelly’, ‘future’, ‘globals’, ‘future.apply’, ‘progressr’, ‘SQUAREM’, ‘diagram’, ‘lava’, ‘prodlim’, ‘proxy’, ‘clock’, ‘gower’, ‘hardhat’, ‘ipred’, ‘sparsevctrs’, ‘timeDate’, ‘e1071’, ‘ModelMetrics’, ‘plyr’, ‘pROC’, ‘recipes’, ‘reshape2’\n",
            "\n",
            "\n",
            "Loading required package: lattice\n",
            "\n",
            "\n",
            "Attaching package: ‘caret’\n",
            "\n",
            "\n",
            "The following object is masked from ‘package:purrr’:\n",
            "\n",
            "    lift\n",
            "\n",
            "\n",
            "Type 'citation(\"pROC\")' for a citation.\n",
            "\n",
            "\n",
            "Attaching package: ‘pROC’\n",
            "\n",
            "\n",
            "The following objects are masked from ‘package:stats’:\n",
            "\n",
            "    cov, smooth, var\n",
            "\n",
            "\n"
          ]
        }
      ]
    },
    {
      "cell_type": "code",
      "source": [
        "# train and test split the data\n",
        "print(colSums(is.na(df_complete))) # Should be 0 for numeric/integer, maybe some for factor\n"
      ],
      "metadata": {
        "colab": {
          "base_uri": "https://localhost:8080/"
        },
        "id": "vbYEiJdZN9AO",
        "outputId": "a1fdfd7c-6bbb-4dca-a047-f08b008788ee"
      },
      "execution_count": 28,
      "outputs": [
        {
          "output_type": "stream",
          "name": "stdout",
          "text": [
            "         aline_flg        icu_los_day   hospital_los_day                age \n",
            "                 0                  0                  0                  0 \n",
            "        gender_num       weight_first                bmi        sapsi_first \n",
            "                 0                  0                  0                  0 \n",
            "        sofa_first       service_unit        service_num     day_icu_intime \n",
            "                 0                  0                  0                  0 \n",
            "day_icu_intime_num    hour_icu_intime       hosp_exp_flg        icu_exp_flg \n",
            "                 0                  0                  0                  0 \n",
            "        day_28_flg  mort_day_censored         censor_flg         sepsis_flg \n",
            "                 0                  0                  0                  0 \n",
            "           chf_flg           afib_flg          renal_flg          liver_flg \n",
            "                 0                  0                  0                  0 \n",
            "          copd_flg            cad_flg         stroke_flg            mal_flg \n",
            "                 0                  0                  0                  0 \n",
            "          resp_flg            map_1st             hr_1st           temp_1st \n",
            "                 0                  0                  0                  0 \n",
            "          spo2_1st          abg_count          wbc_first          hgb_first \n",
            "                 0                  0                  0                  0 \n",
            "    platelet_first       sodium_first    potassium_first         tco2_first \n",
            "                 0                  0                  0                  0 \n",
            "    chloride_first          bun_first   creatinine_first          po2_first \n",
            "                 0                  0                  0                  0 \n",
            "        pco2_first           iv_day_1           IAC_used        Outcome_28d \n",
            "                 0                  0                  0                  0 \n"
          ]
        }
      ]
    },
    {
      "cell_type": "code",
      "source": [
        "# know the datatypes of each columsn\n",
        "sapply(df_complete, class)"
      ],
      "metadata": {
        "colab": {
          "base_uri": "https://localhost:8080/",
          "height": 139
        },
        "id": "BC4xq3WEPBaL",
        "outputId": "b0a50a32-a517-49b3-a3a5-0788d0d5eb77"
      },
      "execution_count": 29,
      "outputs": [
        {
          "output_type": "display_data",
          "data": {
            "text/html": [
              "<style>\n",
              ".dl-inline {width: auto; margin:0; padding: 0}\n",
              ".dl-inline>dt, .dl-inline>dd {float: none; width: auto; display: inline-block}\n",
              ".dl-inline>dt::after {content: \":\\0020\"; padding-right: .5ex}\n",
              ".dl-inline>dt:not(:first-of-type) {padding-left: .5ex}\n",
              "</style><dl class=dl-inline><dt>aline_flg</dt><dd>'integer'</dd><dt>icu_los_day</dt><dd>'numeric'</dd><dt>hospital_los_day</dt><dd>'integer'</dd><dt>age</dt><dd>'numeric'</dd><dt>gender_num</dt><dd>'numeric'</dd><dt>weight_first</dt><dd>'numeric'</dd><dt>bmi</dt><dd>'numeric'</dd><dt>sapsi_first</dt><dd>'numeric'</dd><dt>sofa_first</dt><dd>'numeric'</dd><dt>service_unit</dt><dd>'character'</dd><dt>service_num</dt><dd>'integer'</dd><dt>day_icu_intime</dt><dd>'character'</dd><dt>day_icu_intime_num</dt><dd>'integer'</dd><dt>hour_icu_intime</dt><dd>'integer'</dd><dt>hosp_exp_flg</dt><dd>'integer'</dd><dt>icu_exp_flg</dt><dd>'integer'</dd><dt>day_28_flg</dt><dd>'integer'</dd><dt>mort_day_censored</dt><dd>'numeric'</dd><dt>censor_flg</dt><dd>'integer'</dd><dt>sepsis_flg</dt><dd>'integer'</dd><dt>chf_flg</dt><dd>'integer'</dd><dt>afib_flg</dt><dd>'integer'</dd><dt>renal_flg</dt><dd>'integer'</dd><dt>liver_flg</dt><dd>'integer'</dd><dt>copd_flg</dt><dd>'integer'</dd><dt>cad_flg</dt><dd>'integer'</dd><dt>stroke_flg</dt><dd>'integer'</dd><dt>mal_flg</dt><dd>'integer'</dd><dt>resp_flg</dt><dd>'integer'</dd><dt>map_1st</dt><dd>'numeric'</dd><dt>hr_1st</dt><dd>'integer'</dd><dt>temp_1st</dt><dd>'numeric'</dd><dt>spo2_1st</dt><dd>'integer'</dd><dt>abg_count</dt><dd>'integer'</dd><dt>wbc_first</dt><dd>'numeric'</dd><dt>hgb_first</dt><dd>'numeric'</dd><dt>platelet_first</dt><dd>'numeric'</dd><dt>sodium_first</dt><dd>'numeric'</dd><dt>potassium_first</dt><dd>'numeric'</dd><dt>tco2_first</dt><dd>'numeric'</dd><dt>chloride_first</dt><dd>'numeric'</dd><dt>bun_first</dt><dd>'numeric'</dd><dt>creatinine_first</dt><dd>'numeric'</dd><dt>po2_first</dt><dd>'numeric'</dd><dt>pco2_first</dt><dd>'numeric'</dd><dt>iv_day_1</dt><dd>'numeric'</dd><dt>IAC_used</dt><dd>'factor'</dd><dt>Outcome_28d</dt><dd>'factor'</dd></dl>\n"
            ],
            "text/markdown": "aline_flg\n:   'integer'icu_los_day\n:   'numeric'hospital_los_day\n:   'integer'age\n:   'numeric'gender_num\n:   'numeric'weight_first\n:   'numeric'bmi\n:   'numeric'sapsi_first\n:   'numeric'sofa_first\n:   'numeric'service_unit\n:   'character'service_num\n:   'integer'day_icu_intime\n:   'character'day_icu_intime_num\n:   'integer'hour_icu_intime\n:   'integer'hosp_exp_flg\n:   'integer'icu_exp_flg\n:   'integer'day_28_flg\n:   'integer'mort_day_censored\n:   'numeric'censor_flg\n:   'integer'sepsis_flg\n:   'integer'chf_flg\n:   'integer'afib_flg\n:   'integer'renal_flg\n:   'integer'liver_flg\n:   'integer'copd_flg\n:   'integer'cad_flg\n:   'integer'stroke_flg\n:   'integer'mal_flg\n:   'integer'resp_flg\n:   'integer'map_1st\n:   'numeric'hr_1st\n:   'integer'temp_1st\n:   'numeric'spo2_1st\n:   'integer'abg_count\n:   'integer'wbc_first\n:   'numeric'hgb_first\n:   'numeric'platelet_first\n:   'numeric'sodium_first\n:   'numeric'potassium_first\n:   'numeric'tco2_first\n:   'numeric'chloride_first\n:   'numeric'bun_first\n:   'numeric'creatinine_first\n:   'numeric'po2_first\n:   'numeric'pco2_first\n:   'numeric'iv_day_1\n:   'numeric'IAC_used\n:   'factor'Outcome_28d\n:   'factor'\n\n",
            "text/latex": "\\begin{description*}\n\\item[aline\\textbackslash{}\\_flg] 'integer'\n\\item[icu\\textbackslash{}\\_los\\textbackslash{}\\_day] 'numeric'\n\\item[hospital\\textbackslash{}\\_los\\textbackslash{}\\_day] 'integer'\n\\item[age] 'numeric'\n\\item[gender\\textbackslash{}\\_num] 'numeric'\n\\item[weight\\textbackslash{}\\_first] 'numeric'\n\\item[bmi] 'numeric'\n\\item[sapsi\\textbackslash{}\\_first] 'numeric'\n\\item[sofa\\textbackslash{}\\_first] 'numeric'\n\\item[service\\textbackslash{}\\_unit] 'character'\n\\item[service\\textbackslash{}\\_num] 'integer'\n\\item[day\\textbackslash{}\\_icu\\textbackslash{}\\_intime] 'character'\n\\item[day\\textbackslash{}\\_icu\\textbackslash{}\\_intime\\textbackslash{}\\_num] 'integer'\n\\item[hour\\textbackslash{}\\_icu\\textbackslash{}\\_intime] 'integer'\n\\item[hosp\\textbackslash{}\\_exp\\textbackslash{}\\_flg] 'integer'\n\\item[icu\\textbackslash{}\\_exp\\textbackslash{}\\_flg] 'integer'\n\\item[day\\textbackslash{}\\_28\\textbackslash{}\\_flg] 'integer'\n\\item[mort\\textbackslash{}\\_day\\textbackslash{}\\_censored] 'numeric'\n\\item[censor\\textbackslash{}\\_flg] 'integer'\n\\item[sepsis\\textbackslash{}\\_flg] 'integer'\n\\item[chf\\textbackslash{}\\_flg] 'integer'\n\\item[afib\\textbackslash{}\\_flg] 'integer'\n\\item[renal\\textbackslash{}\\_flg] 'integer'\n\\item[liver\\textbackslash{}\\_flg] 'integer'\n\\item[copd\\textbackslash{}\\_flg] 'integer'\n\\item[cad\\textbackslash{}\\_flg] 'integer'\n\\item[stroke\\textbackslash{}\\_flg] 'integer'\n\\item[mal\\textbackslash{}\\_flg] 'integer'\n\\item[resp\\textbackslash{}\\_flg] 'integer'\n\\item[map\\textbackslash{}\\_1st] 'numeric'\n\\item[hr\\textbackslash{}\\_1st] 'integer'\n\\item[temp\\textbackslash{}\\_1st] 'numeric'\n\\item[spo2\\textbackslash{}\\_1st] 'integer'\n\\item[abg\\textbackslash{}\\_count] 'integer'\n\\item[wbc\\textbackslash{}\\_first] 'numeric'\n\\item[hgb\\textbackslash{}\\_first] 'numeric'\n\\item[platelet\\textbackslash{}\\_first] 'numeric'\n\\item[sodium\\textbackslash{}\\_first] 'numeric'\n\\item[potassium\\textbackslash{}\\_first] 'numeric'\n\\item[tco2\\textbackslash{}\\_first] 'numeric'\n\\item[chloride\\textbackslash{}\\_first] 'numeric'\n\\item[bun\\textbackslash{}\\_first] 'numeric'\n\\item[creatinine\\textbackslash{}\\_first] 'numeric'\n\\item[po2\\textbackslash{}\\_first] 'numeric'\n\\item[pco2\\textbackslash{}\\_first] 'numeric'\n\\item[iv\\textbackslash{}\\_day\\textbackslash{}\\_1] 'numeric'\n\\item[IAC\\textbackslash{}\\_used] 'factor'\n\\item[Outcome\\textbackslash{}\\_28d] 'factor'\n\\end{description*}\n",
            "text/plain": [
              "         aline_flg        icu_los_day   hospital_los_day                age \n",
              "         \"integer\"          \"numeric\"          \"integer\"          \"numeric\" \n",
              "        gender_num       weight_first                bmi        sapsi_first \n",
              "         \"numeric\"          \"numeric\"          \"numeric\"          \"numeric\" \n",
              "        sofa_first       service_unit        service_num     day_icu_intime \n",
              "         \"numeric\"        \"character\"          \"integer\"        \"character\" \n",
              "day_icu_intime_num    hour_icu_intime       hosp_exp_flg        icu_exp_flg \n",
              "         \"integer\"          \"integer\"          \"integer\"          \"integer\" \n",
              "        day_28_flg  mort_day_censored         censor_flg         sepsis_flg \n",
              "         \"integer\"          \"numeric\"          \"integer\"          \"integer\" \n",
              "           chf_flg           afib_flg          renal_flg          liver_flg \n",
              "         \"integer\"          \"integer\"          \"integer\"          \"integer\" \n",
              "          copd_flg            cad_flg         stroke_flg            mal_flg \n",
              "         \"integer\"          \"integer\"          \"integer\"          \"integer\" \n",
              "          resp_flg            map_1st             hr_1st           temp_1st \n",
              "         \"integer\"          \"numeric\"          \"integer\"          \"numeric\" \n",
              "          spo2_1st          abg_count          wbc_first          hgb_first \n",
              "         \"integer\"          \"integer\"          \"numeric\"          \"numeric\" \n",
              "    platelet_first       sodium_first    potassium_first         tco2_first \n",
              "         \"numeric\"          \"numeric\"          \"numeric\"          \"numeric\" \n",
              "    chloride_first          bun_first   creatinine_first          po2_first \n",
              "         \"numeric\"          \"numeric\"          \"numeric\"          \"numeric\" \n",
              "        pco2_first           iv_day_1           IAC_used        Outcome_28d \n",
              "         \"numeric\"          \"numeric\"           \"factor\"           \"factor\" "
            ]
          },
          "metadata": {}
        }
      ]
    },
    {
      "cell_type": "code",
      "source": [
        "train_index <- createDataPartition(df_complete$day_28_flg, p = 0.8, list = FALSE)\n",
        "train_data <- df_complete[train_index, ]\n",
        "test_data <- df_complete[-train_index, ]\n",
        "\n",
        "cat(paste(\"\\nTraining Data Size:\", nrow(train_data), \"rows\\n\"))\n",
        "cat(paste(\"Testing Data Size:\", nrow(test_data), \"rows\\n\"))\n",
        "\n",
        "\n",
        "# Use the 'glm' function for Logistic Regression\n",
        "logistic_model <- glm(day_28_flg ~ .,\n",
        "                      data = train_data,\n",
        "                      family = binomial)\n",
        "\n",
        "cat(\"\\n--- Model Summary (Coefficients) ---\\n\")\n",
        "print(summary(logistic_model))\n",
        "\n",
        "\n",
        "# Predict probabilities for the 'Died' class (level 2)\n",
        "test_probabilities <- predict(logistic_model,\n",
        "                              newdata = test_data,\n",
        "                              type = \"response\")\n",
        "\n",
        "# Convert probabilities to binary class predictions (e.g., cutoff = 0.5)\n",
        "test_predictions <- factor(\n",
        "    ifelse(test_probabilities > 0.5, \"Died\", \"Survived\"),\n",
        "    levels = c(\"Survived\", \"Died\")\n",
        ")\n",
        "\n",
        "# Convert the actual outcome in the test data to a factor with matching levels\n",
        "test_data$day_28_flg <- factor(\n",
        "    ifelse(test_data$day_28_flg == 1, \"Died\", \"Survived\"),\n",
        "    levels = c(\"Survived\", \"Died\")\n",
        ")\n",
        "\n",
        "\n",
        "cat(\"\\n--- Performance Metrics (0.5 Cutoff) ---\\n\")\n",
        "conf_matrix <- confusionMatrix(test_predictions, test_data$day_28_flg, positive = \"Died\")\n",
        "print(conf_matrix)\n",
        "\n",
        "# The Area Under the Curve (AUC) is a robust measure of model discrimination,\n",
        "# independent of the chosen classification threshold.\n",
        "roc_obj <- roc(test_data$day_28_flg, test_probabilities)\n",
        "auc_value <- auc(roc_obj)\n",
        "\n",
        "cat(paste(\"\\nArea Under the ROC Curve (AUC):\", round(auc_value, 4), \"\\n\"))\n",
        "# plot(roc_obj, main = \"ROC Curve for 28-Day Mortality Prediction\", col = \"#00BFC4\", lwd = 2)\n",
        "# abline(a=0, b=1, lty=2, col=\"gray\")\n",
        "\n",
        "cat(\"\\n--- Model Interpretation ---\\n\")\n",
        "cat(\"The AUC value represents the model's ability to distinguish between patients who died and those who survived within 28 days.\\n\")\n",
        "cat(\"An AUC close to 1 indicates excellent discrimination, while 0.5 indicates performance no better than random guessing.\\n\")\n",
        "cat(paste(\"The resulting AUC of\", round(auc_value, 4), \"suggests a **\",\n",
        "          if (auc_value > 0.8) \"strong\" else if (auc_value > 0.7) \"good\" else \"moderate\",\n",
        "          \"** predictive capability for 28-day mortality on the hold-out test set.\",\n",
        "          \"\\nRobustness is confirmed by the consistent performance on unseen data (the test set).\\n\"))\n",
        "cat(\"Key predictors (with low p-values in the summary) likely include SAPS I and SOFA scores, age, and initial vital signs/lab values.\\n\")\n",
        "\n",
        "# Using 5-fold cross-validation to assess stability\n",
        "cat(\"\\n--- 5-Fold Cross-Validation (Robustness Check) ---\\n\")\n",
        "\n",
        "# Define the training control (5-fold)\n",
        "train_control <- trainControl(\n",
        "    method = \"cv\", number = 5,\n",
        "    classProbs = TRUE,\n",
        "    summaryFunction = twoClassSummary\n",
        ")\n",
        "\n",
        "# Train the model using cross-validation\n",
        "# Ensure the target variable in data_final is a factor for cross-validation\n",
        "data_final <- train_data # Use train_data for cross-validation\n",
        "data_final$day_28_flg <- factor(\n",
        "    ifelse(data_final$day_28_flg == 1, \"Died\", \"Survived\"),\n",
        "    levels = c(\"Survived\", \"Died\")\n",
        ")\n",
        "\n",
        "cv_model <- train(\n",
        "    day_28_flg ~ .,\n",
        "    data = data_final,\n",
        "    method = \"glm\",\n",
        "    family = \"binomial\",\n",
        "    trControl = train_control,\n",
        "    metric = \"ROC\" # Optimize for AUC (ROC)\n",
        ")\n",
        "\n",
        "cat(\"\\n--- Cross-Validation Results ---\\n\")\n",
        "print(cv_model)\n",
        "cat(paste(\"\\nMean AUC (ROC) across 5 folds:\", round(cv_model$results$ROC, 4), \"\\n\"))\n",
        "cat(\"This CV-AUC is a more stable estimate of the model's expected performance on new, independent data, further confirming its robustness.\\n\")"
      ],
      "metadata": {
        "colab": {
          "base_uri": "https://localhost:8080/"
        },
        "id": "ixxfsAX4Pe3i",
        "outputId": "701e5d1e-dc90-45d5-8614-0580e0f295ee"
      },
      "execution_count": 32,
      "outputs": [
        {
          "output_type": "stream",
          "name": "stdout",
          "text": [
            "\n",
            "Training Data Size: 1421 rows\n",
            "Testing Data Size: 355 rows\n"
          ]
        },
        {
          "output_type": "stream",
          "name": "stderr",
          "text": [
            "Warning message:\n",
            "“glm.fit: algorithm did not converge”\n"
          ]
        },
        {
          "output_type": "stream",
          "name": "stdout",
          "text": [
            "\n",
            "--- Model Summary (Coefficients) ---\n",
            "\n",
            "Call:\n",
            "glm(formula = day_28_flg ~ ., family = binomial, data = train_data)\n",
            "\n",
            "Coefficients: (4 not defined because of singularities)\n",
            "                                 Estimate Std. Error z value Pr(>|z|)\n",
            "(Intercept)                    -2.657e+01  4.386e+05   0.000    1.000\n",
            "aline_flg                      -5.249e-12  2.489e+04   0.000    1.000\n",
            "icu_los_day                    -1.942e-12  4.640e+03   0.000    1.000\n",
            "hospital_los_day                2.768e-12  1.530e+03   0.000    1.000\n",
            "age                            -3.853e-14  6.896e+02   0.000    1.000\n",
            "gender_num                     -4.815e-11  2.345e+04   0.000    1.000\n",
            "weight_first                    3.811e-12  7.717e+02   0.000    1.000\n",
            "bmi                            -8.611e-12  2.226e+03   0.000    1.000\n",
            "sapsi_first                    -1.060e-12  3.211e+03   0.000    1.000\n",
            "sofa_first                      6.648e-12  5.770e+03   0.000    1.000\n",
            "service_unitMICU                1.325e-11  5.564e+04   0.000    1.000\n",
            "service_unitSICU               -1.820e-12  5.298e+04   0.000    1.000\n",
            "service_num                            NA         NA      NA       NA\n",
            "day_icu_intimeMonday           -2.208e-12  3.571e+04   0.000    1.000\n",
            "day_icu_intimeSaturday          3.492e-11  3.557e+04   0.000    1.000\n",
            "day_icu_intimeSunday            2.628e-12  3.732e+04   0.000    1.000\n",
            "day_icu_intimeThursday         -4.112e-12  3.620e+04   0.000    1.000\n",
            "day_icu_intimeTuesday          -1.450e-11  3.621e+04   0.000    1.000\n",
            "day_icu_intimeWednesday        -2.782e-12  3.670e+04   0.000    1.000\n",
            "day_icu_intime_num                     NA         NA      NA       NA\n",
            "hour_icu_intime                -4.883e-13  1.282e+03   0.000    1.000\n",
            "hosp_exp_flg                   -6.384e-09  7.673e+04   0.000    1.000\n",
            "icu_exp_flg                     2.368e-08  5.804e+04   0.000    1.000\n",
            "mort_day_censored              -2.547e-15  4.023e+01   0.000    1.000\n",
            "censor_flg                     -4.832e-11  4.034e+04   0.000    1.000\n",
            "sepsis_flg                             NA         NA      NA       NA\n",
            "chf_flg                        -1.289e-11  3.589e+04   0.000    1.000\n",
            "afib_flg                       -2.855e-12  3.295e+04   0.000    1.000\n",
            "renal_flg                       1.071e-12  5.664e+04   0.000    1.000\n",
            "liver_flg                      -1.094e-11  4.694e+04   0.000    1.000\n",
            "copd_flg                       -6.289e-13  3.680e+04   0.000    1.000\n",
            "cad_flg                         8.277e-12  4.192e+04   0.000    1.000\n",
            "stroke_flg                     -2.588e-11  3.423e+04   0.000    1.000\n",
            "mal_flg                        -9.080e-12  2.928e+04   0.000    1.000\n",
            "resp_flg                       -2.202e-11  2.506e+04   0.000    1.000\n",
            "map_1st                        -3.873e-14  5.602e+02   0.000    1.000\n",
            "hr_1st                         -1.048e-13  5.584e+02   0.000    1.000\n",
            "temp_1st                       -2.172e-13  2.247e+03   0.000    1.000\n",
            "spo2_1st                       -7.479e-14  1.750e+03   0.000    1.000\n",
            "abg_count                      -4.588e-13  2.032e+03   0.000    1.000\n",
            "wbc_first                      -6.281e-13  1.704e+03   0.000    1.000\n",
            "hgb_first                       6.558e-13  5.482e+03   0.000    1.000\n",
            "platelet_first                  1.635e-13  1.119e+02   0.000    1.000\n",
            "sodium_first                   -1.869e-13  3.137e+03   0.000    1.000\n",
            "potassium_first                -6.455e-12  1.330e+04   0.000    1.000\n",
            "tco2_first                     -1.555e-12  2.577e+03   0.000    1.000\n",
            "chloride_first                  1.494e-12  2.724e+03   0.000    1.000\n",
            "bun_first                      -2.432e-13  9.491e+02   0.000    1.000\n",
            "creatinine_first                3.876e-12  1.241e+04   0.000    1.000\n",
            "po2_first                       1.249e-14  7.537e+01   0.000    1.000\n",
            "pco2_first                      8.994e-13  8.941e+02   0.000    1.000\n",
            "iv_day_1                        3.102e-15  6.475e+00   0.000    1.000\n",
            "IAC_usedYes                            NA         NA      NA       NA\n",
            "Outcome_28dDead within 28 days  5.313e+01  6.647e+04   0.001    0.999\n",
            "\n",
            "(Dispersion parameter for binomial family taken to be 1)\n",
            "\n",
            "    Null deviance: 1.2681e+03  on 1420  degrees of freedom\n",
            "Residual deviance: 8.2440e-09  on 1371  degrees of freedom\n",
            "AIC: 100\n",
            "\n",
            "Number of Fisher Scoring iterations: 25\n",
            "\n",
            "\n",
            "--- Performance Metrics (0.5 Cutoff) ---\n",
            "Confusion Matrix and Statistics\n",
            "\n",
            "          Reference\n",
            "Prediction Survived Died\n",
            "  Survived      305    0\n",
            "  Died            0   50\n",
            "                                     \n",
            "               Accuracy : 1          \n",
            "                 95% CI : (0.9897, 1)\n",
            "    No Information Rate : 0.8592     \n",
            "    P-Value [Acc > NIR] : < 2.2e-16  \n",
            "                                     \n",
            "                  Kappa : 1          \n",
            "                                     \n",
            " Mcnemar's Test P-Value : NA         \n",
            "                                     \n",
            "            Sensitivity : 1.0000     \n",
            "            Specificity : 1.0000     \n",
            "         Pos Pred Value : 1.0000     \n",
            "         Neg Pred Value : 1.0000     \n",
            "             Prevalence : 0.1408     \n",
            "         Detection Rate : 0.1408     \n",
            "   Detection Prevalence : 0.1408     \n",
            "      Balanced Accuracy : 1.0000     \n",
            "                                     \n",
            "       'Positive' Class : Died       \n",
            "                                     \n"
          ]
        },
        {
          "output_type": "stream",
          "name": "stderr",
          "text": [
            "Setting levels: control = Survived, case = Died\n",
            "\n",
            "Setting direction: controls < cases\n",
            "\n"
          ]
        },
        {
          "output_type": "stream",
          "name": "stdout",
          "text": [
            "\n",
            "Area Under the ROC Curve (AUC): 1 \n",
            "\n",
            "--- Model Interpretation ---\n",
            "The AUC value represents the model's ability to distinguish between patients who died and those who survived within 28 days.\n",
            "An AUC close to 1 indicates excellent discrimination, while 0.5 indicates performance no better than random guessing.\n",
            "The resulting AUC of 1 suggests a ** strong ** predictive capability for 28-day mortality on the hold-out test set. \n",
            "Robustness is confirmed by the consistent performance on unseen data (the test set).\n",
            "Key predictors (with low p-values in the summary) likely include SAPS I and SOFA scores, age, and initial vital signs/lab values.\n",
            "\n",
            "--- 5-Fold Cross-Validation (Robustness Check) ---\n"
          ]
        },
        {
          "output_type": "stream",
          "name": "stderr",
          "text": [
            "Warning message:\n",
            "“glm.fit: algorithm did not converge”\n",
            "Warning message:\n",
            "“glm.fit: algorithm did not converge”\n",
            "Warning message:\n",
            "“glm.fit: algorithm did not converge”\n",
            "Warning message:\n",
            "“glm.fit: algorithm did not converge”\n",
            "Warning message:\n",
            "“glm.fit: algorithm did not converge”\n",
            "Warning message:\n",
            "“glm.fit: algorithm did not converge”\n"
          ]
        },
        {
          "output_type": "stream",
          "name": "stdout",
          "text": [
            "\n",
            "--- Cross-Validation Results ---\n",
            "Generalized Linear Model \n",
            "\n",
            "1421 samples\n",
            "  47 predictor\n",
            "   2 classes: 'Survived', 'Died' \n",
            "\n",
            "No pre-processing\n",
            "Resampling: Cross-Validated (5 fold) \n",
            "Summary of sample sizes: 1137, 1136, 1138, 1136, 1137 \n",
            "Resampling results:\n",
            "\n",
            "  ROC  Sens  Spec\n",
            "  1    1     1   \n",
            "\n",
            "\n",
            "Mean AUC (ROC) across 5 folds: 1 \n",
            "This CV-AUC is a more stable estimate of the model's expected performance on new, independent data, further confirming its robustness.\n"
          ]
        }
      ]
    }
  ]
}